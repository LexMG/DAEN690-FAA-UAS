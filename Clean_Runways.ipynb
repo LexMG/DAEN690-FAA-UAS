{
 "cells": [
  {
   "cell_type": "code",
   "execution_count": 1,
   "metadata": {},
   "outputs": [],
   "source": [
    "# Import libraries\n",
    "import pandas as pd\n",
    "import urllib\n",
    "import json"
   ]
  },
  {
   "cell_type": "code",
   "execution_count": 2,
   "metadata": {},
   "outputs": [],
   "source": [
    "# Calculates centroid of a convex polygon from a list of vertices\n",
    "def centroid(vertices):\n",
    "     _x_list = [vertex [0] for vertex in vertices]\n",
    "     _y_list = [vertex [1] for vertex in vertices]\n",
    "     _len = len(vertices)\n",
    "     _x = sum(_x_list) / _len\n",
    "     _y = sum(_y_list) / _len\n",
    "     return(_x, _y)"
   ]
  },
  {
   "cell_type": "code",
   "execution_count": 3,
   "metadata": {},
   "outputs": [],
   "source": [
    "# Read in Airports dataset and keep necessary columns\n",
    "airports_df = pd.read_csv('Airports.csv')\n",
    "airports_df = airports_df[['GLOBAL_ID','IDENT','ICAO_ID']]"
   ]
  },
  {
   "cell_type": "code",
   "execution_count": 4,
   "metadata": {},
   "outputs": [],
   "source": [
    "# Pass request to site for GeoJSON\n",
    "runway_url = \"https://opendata.arcgis.com/datasets/4d8fa46181aa470d809776c57a8ab1f6_0.geojson\"\n",
    "req = urllib.request.urlopen(runway_url)"
   ]
  },
  {
   "cell_type": "code",
   "execution_count": 5,
   "metadata": {},
   "outputs": [],
   "source": [
    "# Read into JSON\n",
    "data = req.read()\n",
    "runways_json = json.loads(data.decode('utf-8'))"
   ]
  },
  {
   "cell_type": "code",
   "execution_count": 6,
   "metadata": {},
   "outputs": [],
   "source": [
    "# Read JSON into dataframe\n",
    "runways_df = pd.json_normalize(runways_json, record_path =['features'])\n",
    "# Add lat/long for runway center\n",
    "runways_df['RUNWAY.LATITUDE'] = ''\n",
    "runways_df['RUNWAY.LONGITUDE'] = ''"
   ]
  },
  {
   "cell_type": "code",
   "execution_count": 7,
   "metadata": {},
   "outputs": [],
   "source": [
    "# Extract list of coordinates from nested list\n",
    "for i in runways_df.index:\n",
    "    runways_df.at[i, 'geometry.coordinates'] = runways_df['geometry.coordinates'][i][0]"
   ]
  },
  {
   "cell_type": "code",
   "execution_count": 8,
   "metadata": {},
   "outputs": [],
   "source": [
    "# Iterate through dataframe to calculate center of runway and split into lat/long values\n",
    "for i in runways_df.index:\n",
    "    coords = centroid(runways_df['geometry.coordinates'][i])\n",
    "    runways_df.at[i, 'RUNWAY.LATITUDE'] = coords[0]\n",
    "    runways_df.at[i, 'RUNWAY.LONGITUDE'] = coords[1]"
   ]
  },
  {
   "cell_type": "code",
   "execution_count": 9,
   "metadata": {},
   "outputs": [],
   "source": [
    "# Remove unnecessary rows and rename for readability\n",
    "runways_df = runways_df[['properties.GLOBAL_ID','properties.AIRPORT_ID','properties.DESIGNATOR','RUNWAY.LATITUDE','RUNWAY.LONGITUDE']]\n",
    "runways_df = runways_df.rename({'properties.GLOBAL_ID': 'GLOBAL_ID','properties.AIRPORT_ID': 'AIRPORT_ID','properties.DESIGNATOR': 'DESIGNATOR'}, axis=1)"
   ]
  },
  {
   "cell_type": "code",
   "execution_count": 10,
   "metadata": {},
   "outputs": [],
   "source": [
    "# Inner join of Runways and Airports on Runways.AIRPORT_ID and Airports.GLOBAL_ID\n",
    "runways_df = pd.merge(runways_df, airports_df, how='inner', left_on = 'AIRPORT_ID', right_on = 'GLOBAL_ID')"
   ]
  },
  {
   "cell_type": "code",
   "execution_count": 11,
   "metadata": {},
   "outputs": [],
   "source": [
    "# Remove unnecessary rows for readability\n",
    "runways_df = runways_df[['DESIGNATOR','RUNWAY.LATITUDE','RUNWAY.LONGITUDE','IDENT','ICAO_ID']]"
   ]
  },
  {
   "cell_type": "code",
   "execution_count": 12,
   "metadata": {},
   "outputs": [
    {
     "data": {
      "text/html": [
       "<div>\n",
       "<style scoped>\n",
       "    .dataframe tbody tr th:only-of-type {\n",
       "        vertical-align: middle;\n",
       "    }\n",
       "\n",
       "    .dataframe tbody tr th {\n",
       "        vertical-align: top;\n",
       "    }\n",
       "\n",
       "    .dataframe thead th {\n",
       "        text-align: right;\n",
       "    }\n",
       "</style>\n",
       "<table border=\"1\" class=\"dataframe\">\n",
       "  <thead>\n",
       "    <tr style=\"text-align: right;\">\n",
       "      <th></th>\n",
       "      <th>DESIGNATOR</th>\n",
       "      <th>RUNWAY.LATITUDE</th>\n",
       "      <th>RUNWAY.LONGITUDE</th>\n",
       "      <th>IDENT</th>\n",
       "      <th>ICAO_ID</th>\n",
       "    </tr>\n",
       "  </thead>\n",
       "  <tbody>\n",
       "    <tr>\n",
       "      <th>0</th>\n",
       "      <td>05/23</td>\n",
       "      <td>-176.645</td>\n",
       "      <td>51.8825</td>\n",
       "      <td>ADK</td>\n",
       "      <td>PADK</td>\n",
       "    </tr>\n",
       "    <tr>\n",
       "      <th>1</th>\n",
       "      <td>04/22</td>\n",
       "      <td>-154.182</td>\n",
       "      <td>56.939</td>\n",
       "      <td>AKK</td>\n",
       "      <td>PAKH</td>\n",
       "    </tr>\n",
       "    <tr>\n",
       "      <th>2</th>\n",
       "      <td>01/19</td>\n",
       "      <td>-161.493</td>\n",
       "      <td>60.9146</td>\n",
       "      <td>Z13</td>\n",
       "      <td>PFZK</td>\n",
       "    </tr>\n",
       "    <tr>\n",
       "      <th>3</th>\n",
       "      <td>E/W</td>\n",
       "      <td>-0.19998</td>\n",
       "      <td>-8.06404e-05</td>\n",
       "      <td>KKI</td>\n",
       "      <td>NaN</td>\n",
       "    </tr>\n",
       "    <tr>\n",
       "      <th>4</th>\n",
       "      <td>NW/SE</td>\n",
       "      <td>-0.19998</td>\n",
       "      <td>-8.06404e-05</td>\n",
       "      <td>KKI</td>\n",
       "      <td>NaN</td>\n",
       "    </tr>\n",
       "    <tr>\n",
       "      <th>...</th>\n",
       "      <td>...</td>\n",
       "      <td>...</td>\n",
       "      <td>...</td>\n",
       "      <td>...</td>\n",
       "      <td>...</td>\n",
       "    </tr>\n",
       "    <tr>\n",
       "      <th>24031</th>\n",
       "      <td>176/356</td>\n",
       "      <td>-99.2656</td>\n",
       "      <td>34.6767</td>\n",
       "      <td>LTS</td>\n",
       "      <td>KLTS</td>\n",
       "    </tr>\n",
       "    <tr>\n",
       "      <th>24032</th>\n",
       "      <td>18L/36R</td>\n",
       "      <td>-99.2596</td>\n",
       "      <td>34.6677</td>\n",
       "      <td>LTS</td>\n",
       "      <td>KLTS</td>\n",
       "    </tr>\n",
       "    <tr>\n",
       "      <th>24033</th>\n",
       "      <td>18R/36L</td>\n",
       "      <td>-99.2739</td>\n",
       "      <td>34.6603</td>\n",
       "      <td>LTS</td>\n",
       "      <td>KLTS</td>\n",
       "    </tr>\n",
       "    <tr>\n",
       "      <th>24034</th>\n",
       "      <td>01/19</td>\n",
       "      <td>-84.9466</td>\n",
       "      <td>36.3507</td>\n",
       "      <td>2A1</td>\n",
       "      <td>NaN</td>\n",
       "    </tr>\n",
       "    <tr>\n",
       "      <th>24035</th>\n",
       "      <td>15/33</td>\n",
       "      <td>-91.7202</td>\n",
       "      <td>41.7571</td>\n",
       "      <td>IA24</td>\n",
       "      <td>NaN</td>\n",
       "    </tr>\n",
       "  </tbody>\n",
       "</table>\n",
       "<p>24036 rows × 5 columns</p>\n",
       "</div>"
      ],
      "text/plain": [
       "      DESIGNATOR RUNWAY.LATITUDE RUNWAY.LONGITUDE IDENT ICAO_ID\n",
       "0          05/23        -176.645          51.8825   ADK    PADK\n",
       "1          04/22        -154.182           56.939   AKK    PAKH\n",
       "2          01/19        -161.493          60.9146   Z13    PFZK\n",
       "3            E/W        -0.19998     -8.06404e-05   KKI     NaN\n",
       "4          NW/SE        -0.19998     -8.06404e-05   KKI     NaN\n",
       "...          ...             ...              ...   ...     ...\n",
       "24031    176/356        -99.2656          34.6767   LTS    KLTS\n",
       "24032    18L/36R        -99.2596          34.6677   LTS    KLTS\n",
       "24033    18R/36L        -99.2739          34.6603   LTS    KLTS\n",
       "24034      01/19        -84.9466          36.3507   2A1     NaN\n",
       "24035      15/33        -91.7202          41.7571  IA24     NaN\n",
       "\n",
       "[24036 rows x 5 columns]"
      ]
     },
     "execution_count": 12,
     "metadata": {},
     "output_type": "execute_result"
    }
   ],
   "source": [
    "runways_df"
   ]
  },
  {
   "cell_type": "code",
   "execution_count": 13,
   "metadata": {},
   "outputs": [],
   "source": [
    "# Export dataframe to CSV\n",
    "runways_df.to_csv('runways_cleaned.csv')"
   ]
  }
 ],
 "metadata": {
  "kernelspec": {
   "display_name": "Python 3",
   "language": "python",
   "name": "python3"
  },
  "language_info": {
   "codemirror_mode": {
    "name": "ipython",
    "version": 3
   },
   "file_extension": ".py",
   "mimetype": "text/x-python",
   "name": "python",
   "nbconvert_exporter": "python",
   "pygments_lexer": "ipython3",
   "version": "3.8.3"
  }
 },
 "nbformat": 4,
 "nbformat_minor": 4
}
