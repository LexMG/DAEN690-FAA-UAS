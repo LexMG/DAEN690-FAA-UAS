{
 "cells": [
  {
   "cell_type": "markdown",
   "metadata": {},
   "source": [
    "## Import Statements and Main Data Read in (.csv)"
   ]
  },
  {
   "cell_type": "code",
   "execution_count": 1,
   "metadata": {},
   "outputs": [],
   "source": [
    "# Import Statements\n",
    "import pandas as pd\n",
    "import numpy as np\n",
    "import matplotlib.pyplot as plt\n",
    "import plotly.express as px\n",
    "from plotly.subplots import make_subplots\n",
    "import plotly.graph_objects as go\n",
    "import chart_studio.plotly as py\n",
    "import re\n",
    "\n",
    "import spacy\n",
    "nlp = spacy.load('en_core_web_sm')"
   ]
  },
  {
   "cell_type": "code",
   "execution_count": 2,
   "metadata": {},
   "outputs": [
    {
     "data": {
      "text/html": [
       "<div>\n",
       "<style scoped>\n",
       "    .dataframe tbody tr th:only-of-type {\n",
       "        vertical-align: middle;\n",
       "    }\n",
       "\n",
       "    .dataframe tbody tr th {\n",
       "        vertical-align: top;\n",
       "    }\n",
       "\n",
       "    .dataframe thead th {\n",
       "        text-align: right;\n",
       "    }\n",
       "</style>\n",
       "<table border=\"1\" class=\"dataframe\">\n",
       "  <thead>\n",
       "    <tr style=\"text-align: right;\">\n",
       "      <th></th>\n",
       "      <th>dateonly</th>\n",
       "      <th>timeonly</th>\n",
       "      <th>DATE</th>\n",
       "      <th>POD</th>\n",
       "      <th>PRIMARYCODE</th>\n",
       "      <th>SECONDARYCODES</th>\n",
       "      <th>REPORTINGFACILITY</th>\n",
       "      <th>REMARKS</th>\n",
       "      <th>FACILITY.CEDAR</th>\n",
       "      <th>UTCTIME24.CEDAR</th>\n",
       "      <th>...</th>\n",
       "      <th>UASLAT.CEDAR</th>\n",
       "      <th>UASFORMATION.CEDAR</th>\n",
       "      <th>CLOSESTPROXIMITY.CEDAR</th>\n",
       "      <th>UASWEIGHTGT55.CEDAR</th>\n",
       "      <th>UASDIM.CEDAR</th>\n",
       "      <th>UASFWROTOR.CEDAR</th>\n",
       "      <th>PILOTREPORTEDNMAC.CEDAR</th>\n",
       "      <th>TCASRA.CEDAR</th>\n",
       "      <th>SUMMARY.CEDAR</th>\n",
       "      <th>QAFINDINGS.CEDAR</th>\n",
       "    </tr>\n",
       "  </thead>\n",
       "  <tbody>\n",
       "    <tr>\n",
       "      <th>0</th>\n",
       "      <td>1/1/2018</td>\n",
       "      <td>10:46</td>\n",
       "      <td>2018-01-01T10:46Z</td>\n",
       "      <td>DEN</td>\n",
       "      <td>UAS</td>\n",
       "      <td>NaN</td>\n",
       "      <td>CLE</td>\n",
       "      <td>Aircraft observed alarge orange UAS with flash...</td>\n",
       "      <td>NaN</td>\n",
       "      <td>NaN</td>\n",
       "      <td>...</td>\n",
       "      <td>NaN</td>\n",
       "      <td>NaN</td>\n",
       "      <td>NaN</td>\n",
       "      <td>NaN</td>\n",
       "      <td>NaN</td>\n",
       "      <td>NaN</td>\n",
       "      <td>NaN</td>\n",
       "      <td>NaN</td>\n",
       "      <td>NaN</td>\n",
       "      <td>NaN</td>\n",
       "    </tr>\n",
       "    <tr>\n",
       "      <th>1</th>\n",
       "      <td>1/1/2018</td>\n",
       "      <td>14:37</td>\n",
       "      <td>2018-01-01T14:37Z</td>\n",
       "      <td>DEN</td>\n",
       "      <td>UAS</td>\n",
       "      <td>NaN</td>\n",
       "      <td>SLC</td>\n",
       "      <td>Aircraft observed a UAS while at 5,000 feet 11...</td>\n",
       "      <td>NaN</td>\n",
       "      <td>NaN</td>\n",
       "      <td>...</td>\n",
       "      <td>NaN</td>\n",
       "      <td>NaN</td>\n",
       "      <td>NaN</td>\n",
       "      <td>NaN</td>\n",
       "      <td>NaN</td>\n",
       "      <td>NaN</td>\n",
       "      <td>NaN</td>\n",
       "      <td>NaN</td>\n",
       "      <td>NaN</td>\n",
       "      <td>NaN</td>\n",
       "    </tr>\n",
       "    <tr>\n",
       "      <th>2</th>\n",
       "      <td>1/1/2018</td>\n",
       "      <td>14:39</td>\n",
       "      <td>2018-01-01T14:39Z</td>\n",
       "      <td>DEN</td>\n",
       "      <td>UAS</td>\n",
       "      <td>NaN</td>\n",
       "      <td>SLC</td>\n",
       "      <td>Aircraft observed a UAS while at 5,000 feet 11...</td>\n",
       "      <td>NaN</td>\n",
       "      <td>NaN</td>\n",
       "      <td>...</td>\n",
       "      <td>NaN</td>\n",
       "      <td>NaN</td>\n",
       "      <td>NaN</td>\n",
       "      <td>NaN</td>\n",
       "      <td>NaN</td>\n",
       "      <td>NaN</td>\n",
       "      <td>NaN</td>\n",
       "      <td>NaN</td>\n",
       "      <td>NaN</td>\n",
       "      <td>NaN</td>\n",
       "    </tr>\n",
       "    <tr>\n",
       "      <th>3</th>\n",
       "      <td>1/13/2018</td>\n",
       "      <td>12:04</td>\n",
       "      <td>2018-01-13T12:04Z</td>\n",
       "      <td>DEN</td>\n",
       "      <td>UAS</td>\n",
       "      <td>NaN</td>\n",
       "      <td>SJC</td>\n",
       "      <td>Aircraft observed a UAS 100 feet above the Air...</td>\n",
       "      <td>NaN</td>\n",
       "      <td>NaN</td>\n",
       "      <td>...</td>\n",
       "      <td>NaN</td>\n",
       "      <td>NaN</td>\n",
       "      <td>NaN</td>\n",
       "      <td>NaN</td>\n",
       "      <td>NaN</td>\n",
       "      <td>NaN</td>\n",
       "      <td>NaN</td>\n",
       "      <td>NaN</td>\n",
       "      <td>NaN</td>\n",
       "      <td>NaN</td>\n",
       "    </tr>\n",
       "    <tr>\n",
       "      <th>4</th>\n",
       "      <td>1/15/2018</td>\n",
       "      <td>8:52</td>\n",
       "      <td>2018-01-15T08:52Z</td>\n",
       "      <td>DEN</td>\n",
       "      <td>UAS</td>\n",
       "      <td>NaN</td>\n",
       "      <td>POC</td>\n",
       "      <td>Aircraft observed a UAS operating 400 feet bel...</td>\n",
       "      <td>NaN</td>\n",
       "      <td>NaN</td>\n",
       "      <td>...</td>\n",
       "      <td>NaN</td>\n",
       "      <td>NaN</td>\n",
       "      <td>NaN</td>\n",
       "      <td>NaN</td>\n",
       "      <td>NaN</td>\n",
       "      <td>NaN</td>\n",
       "      <td>NaN</td>\n",
       "      <td>NaN</td>\n",
       "      <td>NaN</td>\n",
       "      <td>NaN</td>\n",
       "    </tr>\n",
       "    <tr>\n",
       "      <th>...</th>\n",
       "      <td>...</td>\n",
       "      <td>...</td>\n",
       "      <td>...</td>\n",
       "      <td>...</td>\n",
       "      <td>...</td>\n",
       "      <td>...</td>\n",
       "      <td>...</td>\n",
       "      <td>...</td>\n",
       "      <td>...</td>\n",
       "      <td>...</td>\n",
       "      <td>...</td>\n",
       "      <td>...</td>\n",
       "      <td>...</td>\n",
       "      <td>...</td>\n",
       "      <td>...</td>\n",
       "      <td>...</td>\n",
       "      <td>...</td>\n",
       "      <td>...</td>\n",
       "      <td>...</td>\n",
       "      <td>...</td>\n",
       "      <td>...</td>\n",
       "    </tr>\n",
       "    <tr>\n",
       "      <th>5186</th>\n",
       "      <td>7/31/2020</td>\n",
       "      <td>20:47</td>\n",
       "      <td>2020-07-31T20:47Z</td>\n",
       "      <td>DEN</td>\n",
       "      <td>UAS</td>\n",
       "      <td>NaN</td>\n",
       "      <td>ZAB</td>\n",
       "      <td>Aircraft reported a 50' diameter white balloon...</td>\n",
       "      <td>NaN</td>\n",
       "      <td>NaN</td>\n",
       "      <td>...</td>\n",
       "      <td>NaN</td>\n",
       "      <td>NaN</td>\n",
       "      <td>NaN</td>\n",
       "      <td>NaN</td>\n",
       "      <td>NaN</td>\n",
       "      <td>NaN</td>\n",
       "      <td>NaN</td>\n",
       "      <td>NaN</td>\n",
       "      <td>NaN</td>\n",
       "      <td>NaN</td>\n",
       "    </tr>\n",
       "    <tr>\n",
       "      <th>5187</th>\n",
       "      <td>1/29/2021</td>\n",
       "      <td>17:50</td>\n",
       "      <td>2021-01-29T17:50Z</td>\n",
       "      <td>DEN</td>\n",
       "      <td>UAS</td>\n",
       "      <td>NaN</td>\n",
       "      <td>M03</td>\n",
       "      <td>Aircraft observed a white UAS while S bound at...</td>\n",
       "      <td>NaN</td>\n",
       "      <td>NaN</td>\n",
       "      <td>...</td>\n",
       "      <td>NaN</td>\n",
       "      <td>NaN</td>\n",
       "      <td>NaN</td>\n",
       "      <td>NaN</td>\n",
       "      <td>NaN</td>\n",
       "      <td>NaN</td>\n",
       "      <td>NaN</td>\n",
       "      <td>NaN</td>\n",
       "      <td>NaN</td>\n",
       "      <td>NaN</td>\n",
       "    </tr>\n",
       "    <tr>\n",
       "      <th>5188</th>\n",
       "      <td>4/6/2021</td>\n",
       "      <td>18:07</td>\n",
       "      <td>2021-04-06T18:07Z</td>\n",
       "      <td>DEN</td>\n",
       "      <td>UAS</td>\n",
       "      <td>NaN</td>\n",
       "      <td>ZAB</td>\n",
       "      <td>Aircraft reported a UAS sensor hit while N bou...</td>\n",
       "      <td>NaN</td>\n",
       "      <td>NaN</td>\n",
       "      <td>...</td>\n",
       "      <td>NaN</td>\n",
       "      <td>NaN</td>\n",
       "      <td>NaN</td>\n",
       "      <td>NaN</td>\n",
       "      <td>NaN</td>\n",
       "      <td>NaN</td>\n",
       "      <td>NaN</td>\n",
       "      <td>NaN</td>\n",
       "      <td>NaN</td>\n",
       "      <td>NaN</td>\n",
       "    </tr>\n",
       "    <tr>\n",
       "      <th>5189</th>\n",
       "      <td>4/20/2021</td>\n",
       "      <td>18:39</td>\n",
       "      <td>2021-04-20T18:39Z</td>\n",
       "      <td>DEN</td>\n",
       "      <td>UAS</td>\n",
       "      <td>NOTIFICATION-NONE</td>\n",
       "      <td>PRC</td>\n",
       "      <td>From MOR: Aircraft reported a NMAC with a flat...</td>\n",
       "      <td>NaN</td>\n",
       "      <td>NaN</td>\n",
       "      <td>...</td>\n",
       "      <td>NaN</td>\n",
       "      <td>NaN</td>\n",
       "      <td>NaN</td>\n",
       "      <td>NaN</td>\n",
       "      <td>NaN</td>\n",
       "      <td>NaN</td>\n",
       "      <td>NaN</td>\n",
       "      <td>NaN</td>\n",
       "      <td>NaN</td>\n",
       "      <td>NaN</td>\n",
       "    </tr>\n",
       "    <tr>\n",
       "      <th>5190</th>\n",
       "      <td>6/9/2021</td>\n",
       "      <td>2:01</td>\n",
       "      <td>2021-06-09T02:01Z</td>\n",
       "      <td>DEN</td>\n",
       "      <td>UNIDENTIFIED AERIAL PHENOMENON</td>\n",
       "      <td>MOR, UAS</td>\n",
       "      <td>ZLA</td>\n",
       "      <td>Aircraft reported an unidentified aerial pheno...</td>\n",
       "      <td>NaN</td>\n",
       "      <td>NaN</td>\n",
       "      <td>...</td>\n",
       "      <td>NaN</td>\n",
       "      <td>NaN</td>\n",
       "      <td>NaN</td>\n",
       "      <td>NaN</td>\n",
       "      <td>NaN</td>\n",
       "      <td>NaN</td>\n",
       "      <td>NaN</td>\n",
       "      <td>NaN</td>\n",
       "      <td>NaN</td>\n",
       "      <td>NaN</td>\n",
       "    </tr>\n",
       "  </tbody>\n",
       "</table>\n",
       "<p>5191 rows × 33 columns</p>\n",
       "</div>"
      ],
      "text/plain": [
       "       dateonly timeonly               DATE  POD  \\\n",
       "0      1/1/2018    10:46  2018-01-01T10:46Z  DEN   \n",
       "1      1/1/2018    14:37  2018-01-01T14:37Z  DEN   \n",
       "2      1/1/2018    14:39  2018-01-01T14:39Z  DEN   \n",
       "3     1/13/2018    12:04  2018-01-13T12:04Z  DEN   \n",
       "4     1/15/2018     8:52  2018-01-15T08:52Z  DEN   \n",
       "...         ...      ...                ...  ...   \n",
       "5186  7/31/2020    20:47  2020-07-31T20:47Z  DEN   \n",
       "5187  1/29/2021    17:50  2021-01-29T17:50Z  DEN   \n",
       "5188   4/6/2021    18:07  2021-04-06T18:07Z  DEN   \n",
       "5189  4/20/2021    18:39  2021-04-20T18:39Z  DEN   \n",
       "5190   6/9/2021     2:01  2021-06-09T02:01Z  DEN   \n",
       "\n",
       "                         PRIMARYCODE     SECONDARYCODES REPORTINGFACILITY  \\\n",
       "0                                UAS                NaN               CLE   \n",
       "1                                UAS                NaN               SLC   \n",
       "2                                UAS                NaN               SLC   \n",
       "3                                UAS                NaN               SJC   \n",
       "4                                UAS                NaN               POC   \n",
       "...                              ...                ...               ...   \n",
       "5186                             UAS                NaN               ZAB   \n",
       "5187                             UAS                NaN               M03   \n",
       "5188                             UAS                NaN               ZAB   \n",
       "5189                             UAS  NOTIFICATION-NONE               PRC   \n",
       "5190  UNIDENTIFIED AERIAL PHENOMENON           MOR, UAS               ZLA   \n",
       "\n",
       "                                                REMARKS FACILITY.CEDAR  \\\n",
       "0     Aircraft observed alarge orange UAS with flash...            NaN   \n",
       "1     Aircraft observed a UAS while at 5,000 feet 11...            NaN   \n",
       "2     Aircraft observed a UAS while at 5,000 feet 11...            NaN   \n",
       "3     Aircraft observed a UAS 100 feet above the Air...            NaN   \n",
       "4     Aircraft observed a UAS operating 400 feet bel...            NaN   \n",
       "...                                                 ...            ...   \n",
       "5186  Aircraft reported a 50' diameter white balloon...            NaN   \n",
       "5187  Aircraft observed a white UAS while S bound at...            NaN   \n",
       "5188  Aircraft reported a UAS sensor hit while N bou...            NaN   \n",
       "5189  From MOR: Aircraft reported a NMAC with a flat...            NaN   \n",
       "5190  Aircraft reported an unidentified aerial pheno...            NaN   \n",
       "\n",
       "     UTCTIME24.CEDAR  ... UASLAT.CEDAR UASFORMATION.CEDAR  \\\n",
       "0                NaN  ...          NaN                NaN   \n",
       "1                NaN  ...          NaN                NaN   \n",
       "2                NaN  ...          NaN                NaN   \n",
       "3                NaN  ...          NaN                NaN   \n",
       "4                NaN  ...          NaN                NaN   \n",
       "...              ...  ...          ...                ...   \n",
       "5186             NaN  ...          NaN                NaN   \n",
       "5187             NaN  ...          NaN                NaN   \n",
       "5188             NaN  ...          NaN                NaN   \n",
       "5189             NaN  ...          NaN                NaN   \n",
       "5190             NaN  ...          NaN                NaN   \n",
       "\n",
       "     CLOSESTPROXIMITY.CEDAR UASWEIGHTGT55.CEDAR UASDIM.CEDAR UASFWROTOR.CEDAR  \\\n",
       "0                       NaN                 NaN          NaN              NaN   \n",
       "1                       NaN                 NaN          NaN              NaN   \n",
       "2                       NaN                 NaN          NaN              NaN   \n",
       "3                       NaN                 NaN          NaN              NaN   \n",
       "4                       NaN                 NaN          NaN              NaN   \n",
       "...                     ...                 ...          ...              ...   \n",
       "5186                    NaN                 NaN          NaN              NaN   \n",
       "5187                    NaN                 NaN          NaN              NaN   \n",
       "5188                    NaN                 NaN          NaN              NaN   \n",
       "5189                    NaN                 NaN          NaN              NaN   \n",
       "5190                    NaN                 NaN          NaN              NaN   \n",
       "\n",
       "     PILOTREPORTEDNMAC.CEDAR TCASRA.CEDAR  SUMMARY.CEDAR  QAFINDINGS.CEDAR  \n",
       "0                        NaN          NaN            NaN               NaN  \n",
       "1                        NaN          NaN            NaN               NaN  \n",
       "2                        NaN          NaN            NaN               NaN  \n",
       "3                        NaN          NaN            NaN               NaN  \n",
       "4                        NaN          NaN            NaN               NaN  \n",
       "...                      ...          ...            ...               ...  \n",
       "5186                     NaN          NaN            NaN               NaN  \n",
       "5187                     NaN          NaN            NaN               NaN  \n",
       "5188                     NaN          NaN            NaN               NaN  \n",
       "5189                     NaN          NaN            NaN               NaN  \n",
       "5190                     NaN          NaN            NaN               NaN  \n",
       "\n",
       "[5191 rows x 33 columns]"
      ]
     },
     "execution_count": 2,
     "metadata": {},
     "output_type": "execute_result"
    }
   ],
   "source": [
    "# Read in Incidents_Cleaned_Standard.csv\n",
    "faa_standard = pd.read_csv('C:/Users/grace/OneDrive/Desktop/GMU/DAEN690/Incidents_Cleaned_Standard.csv')\n",
    "faa_standard"
   ]
  },
  {
   "cell_type": "markdown",
   "metadata": {},
   "source": [
    "## Distribution of Standard Format Remarks over Years 2018-2021"
   ]
  },
  {
   "cell_type": "markdown",
   "metadata": {},
   "source": [
    "#### Standard Remarks in SkyWatch per Year"
   ]
  },
  {
   "cell_type": "code",
   "execution_count": 3,
   "metadata": {},
   "outputs": [],
   "source": [
    "# Split dateonly column into the four different years present in the data\n",
    "year_2021 = []\n",
    "year_2020 = []\n",
    "year_2019 = []\n",
    "year_2018 = []\n",
    "\n",
    "for i in range(len(faa_standard)):\n",
    "    if '2021' in faa_standard['dateonly'][i]:\n",
    "        year_2021.append(faa_standard['dateonly'][i])\n",
    "        \n",
    "    elif '2020' in faa_standard['dateonly'][i]:\n",
    "        year_2020.append(faa_standard['dateonly'][i])\n",
    "    \n",
    "    elif '2019' in faa_standard['dateonly'][i]:\n",
    "        year_2019.append(faa_standard['dateonly'][i])\n",
    "    \n",
    "    else:\n",
    "        year_2018.append(faa_standard['dateonly'][i])\n",
    "\n",
    "date18_df = pd.DataFrame(year_2018)\n",
    "date18_df.columns = ['Year 2018']\n",
    "\n",
    "date19_df = pd.DataFrame(year_2019)\n",
    "date19_df.columns = ['Year 2019']\n",
    "\n",
    "date20_df = pd.DataFrame(year_2020)\n",
    "date20_df.columns = ['Year 2020']\n",
    "\n",
    "date21_df = pd.DataFrame(year_2021)\n",
    "date21_df.columns = ['Year 2021']"
   ]
  },
  {
   "cell_type": "code",
   "execution_count": 4,
   "metadata": {},
   "outputs": [
    {
     "name": "stdout",
     "output_type": "stream",
     "text": [
      "Count of Remarks with Standard Format Input through SkyWatch, per Year\n",
      "\n",
      "Year 2018:  814 standard remarks entered\n",
      "Year 2019:  1198 standard remarks entered\n",
      "Year 2020:  1444 standard remarks entered\n",
      "Year 2021:  1735 standard remarks entered\n"
     ]
    }
   ],
   "source": [
    "print('Count of Remarks with Standard Format Input through SkyWatch, per Year\\n\\nYear 2018: ',\n",
    "      len(date18_df), 'standard remarks entered\\nYear 2019: ', len(date19_df), 'standard remarks entered\\nYear 2020: ',\n",
    "     len(date20_df), 'standard remarks entered\\nYear 2021: ', len(date21_df), 'standard remarks entered')"
   ]
  },
  {
   "cell_type": "markdown",
   "metadata": {},
   "source": [
    "#### Total Remarks in SkyWatch per Year"
   ]
  },
  {
   "cell_type": "code",
   "execution_count": 5,
   "metadata": {},
   "outputs": [],
   "source": [
    "# Read in Incidents_Cleaned.csv\n",
    "faa_cleaned = pd.read_csv('C:/Users/grace/OneDrive/Desktop/GMU/DAEN690/Incidents_Cleaned.csv',encoding='cp1252')"
   ]
  },
  {
   "cell_type": "code",
   "execution_count": 6,
   "metadata": {},
   "outputs": [],
   "source": [
    "# Split dateonly column into the four different years present in the data\n",
    "year_2021t = []\n",
    "year_2020t = []\n",
    "year_2019t = []\n",
    "year_2018t = []\n",
    "\n",
    "for i in range(len(faa_cleaned)):\n",
    "    if '2021' in faa_cleaned['dateonly'][i]:\n",
    "        year_2021t.append(faa_cleaned['dateonly'][i])\n",
    "        \n",
    "    elif '2020' in faa_cleaned['dateonly'][i]:\n",
    "        year_2020t.append(faa_cleaned['dateonly'][i])\n",
    "    \n",
    "    elif '2019' in faa_cleaned['dateonly'][i]:\n",
    "        year_2019t.append(faa_cleaned['dateonly'][i])\n",
    "    \n",
    "    else:\n",
    "        year_2018t.append(faa_cleaned['dateonly'][i])\n",
    "\n",
    "date18t_df = pd.DataFrame(year_2018t)\n",
    "date18t_df.columns = ['Year 2018']\n",
    "\n",
    "date19t_df = pd.DataFrame(year_2019t)\n",
    "date19t_df.columns = ['Year 2019']\n",
    "\n",
    "date20t_df = pd.DataFrame(year_2020t)\n",
    "date20t_df.columns = ['Year 2020']\n",
    "\n",
    "date21t_df = pd.DataFrame(year_2021t)\n",
    "date21t_df.columns = ['Year 2021']"
   ]
  },
  {
   "cell_type": "code",
   "execution_count": 7,
   "metadata": {},
   "outputs": [
    {
     "name": "stdout",
     "output_type": "stream",
     "text": [
      "Total Count of Remarks Input through SkyWatch, per Year\n",
      "\n",
      "Year 2018:  2325 remarks entered\n",
      "Year 2019:  2237 remarks entered\n",
      "Year 2020:  1976 remarks entered\n",
      "Year 2021:  2095 remarks entered\n"
     ]
    }
   ],
   "source": [
    "print('Total Count of Remarks Input through SkyWatch, per Year\\n\\nYear 2018: ',\n",
    "      len(date18t_df), 'remarks entered\\nYear 2019: ', len(date19t_df), 'remarks entered\\nYear 2020: ',\n",
    "     len(date20t_df), 'remarks entered\\nYear 2021: ', len(date21t_df), 'remarks entered')"
   ]
  },
  {
   "cell_type": "markdown",
   "metadata": {},
   "source": [
    "#### Visualizations"
   ]
  },
  {
   "cell_type": "code",
   "execution_count": 8,
   "metadata": {},
   "outputs": [],
   "source": [
    "# Single year histogram for count of remarks with a standard format in SkyWatch\n",
    "# fig = px.histogram(date18_df, x=\"Year 2018\", title = \"Count of Remarks with Standard Format, 2018\")\n",
    "# fig.update_layout(\n",
    "#     xaxis_title_text='Date', # xaxis label\n",
    "#     yaxis_title_text='Count of Remarks with Standard Format') # yaxis label\n",
    "# fig.show()"
   ]
  },
  {
   "cell_type": "code",
   "execution_count": 9,
   "metadata": {},
   "outputs": [],
   "source": [
    "# Histograms with Subplots for each year\n",
    "# fig = make_subplots(\n",
    "#     rows=2, cols=2,\n",
    "#     subplot_titles=(\"2018\", \"2019\", \"2020\", \"2021\"))\n",
    "\n",
    "# fig.add_trace(go.Histogram(x=date18_df['Year 2018']),\n",
    "#               row=1, col=1)\n",
    "\n",
    "# fig.add_trace(go.Histogram(x=date19_df['Year 2019']),\n",
    "#               row=1, col=2)\n",
    "\n",
    "# fig.add_trace(go.Histogram(x=date20_df['Year 2020']),\n",
    "#               row=2, col=1)\n",
    "\n",
    "# fig.add_trace(go.Histogram(x=date21_df['Year 2021']),\n",
    "#               row=2, col=2)\n",
    "\n",
    "# fig.update_layout(height=700, width=900,\n",
    "#                   title_text=\"Multiple Subplots with Titles\")\n",
    "\n",
    "# fig.show()"
   ]
  },
  {
   "cell_type": "markdown",
   "metadata": {},
   "source": [
    "## Extracting Geospatial Location Information from Structured Remarks"
   ]
  },
  {
   "cell_type": "markdown",
   "metadata": {},
   "source": [
    "### Extracting Heading and Direction Information\n",
    "\n",
    "The team aims to extract the UAS location from each SkyWatch Remark, in the format: 'XX NM XXX' or '5 NM SSW'"
   ]
  },
  {
   "cell_type": "code",
   "execution_count": 10,
   "metadata": {},
   "outputs": [],
   "source": [
    "# Create List that contains each Standard Remark, and the Heading/Direction\n",
    "# information contained in each remark\n",
    "\n",
    "remark_head_dir = []\n",
    "remarks = faa_standard['REMARKS']\n",
    "\n",
    "# regular expression for any heading/direction\n",
    "#headir_regex = '[0-9][0-9]*[0-9]*\\s?NM? [N|S|E|W|NW|NE|SW|SE|SSE|SSW|SNE|SNW|NNE|NSE|NNE|NNW|WSW|WNW|WSE|WNE|ENE|ESE|ESW|ENW]*'\n",
    "headir_regex = '[0-9][0-9]*[0-9]*\\s?NM* [N|S|E|W|NW|NE|SW|SE|SSE|SSW|SNE|SNW|NNE|NSE|NNE|NNW|WSW|WNW|WSE|WNE|ENE|ESE|ESW|ENW]*'\n",
    "\n",
    "# Loop through all remarks and search for the heading/direction regex above\n",
    "for i in range(len(remarks)):\n",
    "    head_dir = re.findall(headir_regex, remarks[i])\n",
    "    remark_head_dir.append(remarks[i])\n",
    "    remark_head_dir.append(head_dir)"
   ]
  },
  {
   "cell_type": "code",
   "execution_count": 11,
   "metadata": {},
   "outputs": [],
   "source": [
    "# Split Remarks and Heading/Directions into two seperate lists and create\n",
    "# pandas dataframe\n",
    "remark = []\n",
    "head_dir = []\n",
    "\n",
    "for i in range(0, len(remark_head_dir), 2):\n",
    "    remark.append(remark_head_dir[i])\n",
    "    head_dir.append(remark_head_dir[i+1])\n",
    "\n",
    "remark_head_dir_df = pd.DataFrame()\n",
    "remark_head_dir_df['REMARKS'] = remark\n",
    "remark_head_dir_df['Heading_Direction'] = head_dir"
   ]
  },
  {
   "cell_type": "code",
   "execution_count": 12,
   "metadata": {},
   "outputs": [
    {
     "data": {
      "text/html": [
       "<div>\n",
       "<style scoped>\n",
       "    .dataframe tbody tr th:only-of-type {\n",
       "        vertical-align: middle;\n",
       "    }\n",
       "\n",
       "    .dataframe tbody tr th {\n",
       "        vertical-align: top;\n",
       "    }\n",
       "\n",
       "    .dataframe thead th {\n",
       "        text-align: right;\n",
       "    }\n",
       "</style>\n",
       "<table border=\"1\" class=\"dataframe\">\n",
       "  <thead>\n",
       "    <tr style=\"text-align: right;\">\n",
       "      <th></th>\n",
       "      <th>REMARKS</th>\n",
       "      <th>Heading_Direction</th>\n",
       "    </tr>\n",
       "  </thead>\n",
       "  <tbody>\n",
       "    <tr>\n",
       "      <th>0</th>\n",
       "      <td>Aircraft observed alarge orange UAS with flash...</td>\n",
       "      <td>[1 NM , 3 NM NNW]</td>\n",
       "    </tr>\n",
       "    <tr>\n",
       "      <th>1</th>\n",
       "      <td>Aircraft observed a UAS while at 5,000 feet 11...</td>\n",
       "      <td>[11 NM SSE]</td>\n",
       "    </tr>\n",
       "    <tr>\n",
       "      <th>2</th>\n",
       "      <td>Aircraft observed a UAS while at 5,000 feet 11...</td>\n",
       "      <td>[11 NM SSE]</td>\n",
       "    </tr>\n",
       "    <tr>\n",
       "      <th>3</th>\n",
       "      <td>Aircraft observed a UAS 100 feet above the Air...</td>\n",
       "      <td>[2 NM ]</td>\n",
       "    </tr>\n",
       "    <tr>\n",
       "      <th>4</th>\n",
       "      <td>Aircraft observed a UAS operating 400 feet bel...</td>\n",
       "      <td>[]</td>\n",
       "    </tr>\n",
       "    <tr>\n",
       "      <th>...</th>\n",
       "      <td>...</td>\n",
       "      <td>...</td>\n",
       "    </tr>\n",
       "    <tr>\n",
       "      <th>5186</th>\n",
       "      <td>Aircraft reported a 50' diameter white balloon...</td>\n",
       "      <td>[35 NM NE]</td>\n",
       "    </tr>\n",
       "    <tr>\n",
       "      <th>5187</th>\n",
       "      <td>Aircraft observed a white UAS while S bound at...</td>\n",
       "      <td>[1 NM N]</td>\n",
       "    </tr>\n",
       "    <tr>\n",
       "      <th>5188</th>\n",
       "      <td>Aircraft reported a UAS sensor hit while N bou...</td>\n",
       "      <td>[21 NM NW]</td>\n",
       "    </tr>\n",
       "    <tr>\n",
       "      <th>5189</th>\n",
       "      <td>From MOR: Aircraft reported a NMAC with a flat...</td>\n",
       "      <td>[5 NM ENE]</td>\n",
       "    </tr>\n",
       "    <tr>\n",
       "      <th>5190</th>\n",
       "      <td>Aircraft reported an unidentified aerial pheno...</td>\n",
       "      <td>[29 NM SW]</td>\n",
       "    </tr>\n",
       "  </tbody>\n",
       "</table>\n",
       "<p>5191 rows × 2 columns</p>\n",
       "</div>"
      ],
      "text/plain": [
       "                                                REMARKS  Heading_Direction\n",
       "0     Aircraft observed alarge orange UAS with flash...  [1 NM , 3 NM NNW]\n",
       "1     Aircraft observed a UAS while at 5,000 feet 11...        [11 NM SSE]\n",
       "2     Aircraft observed a UAS while at 5,000 feet 11...        [11 NM SSE]\n",
       "3     Aircraft observed a UAS 100 feet above the Air...            [2 NM ]\n",
       "4     Aircraft observed a UAS operating 400 feet bel...                 []\n",
       "...                                                 ...                ...\n",
       "5186  Aircraft reported a 50' diameter white balloon...         [35 NM NE]\n",
       "5187  Aircraft observed a white UAS while S bound at...           [1 NM N]\n",
       "5188  Aircraft reported a UAS sensor hit while N bou...         [21 NM NW]\n",
       "5189  From MOR: Aircraft reported a NMAC with a flat...         [5 NM ENE]\n",
       "5190  Aircraft reported an unidentified aerial pheno...         [29 NM SW]\n",
       "\n",
       "[5191 rows x 2 columns]"
      ]
     },
     "execution_count": 12,
     "metadata": {},
     "output_type": "execute_result"
    }
   ],
   "source": [
    "remark_head_dir_df"
   ]
  },
  {
   "cell_type": "markdown",
   "metadata": {},
   "source": [
    "### Extracting UAS Location Information (using Regular Expressions)\n",
    "\n",
    "The team aims to extract the UAS location from each SkyWatch Remark, in the format: 'XX NM XXX of XXX' or '5 NM SSW of IAD'"
   ]
  },
  {
   "cell_type": "code",
   "execution_count": 13,
   "metadata": {},
   "outputs": [],
   "source": [
    "# Export to .csv file\n",
    "remark_head_dir_df.to_csv('remarks_heading_direction.csv', index = False)"
   ]
  },
  {
   "cell_type": "code",
   "execution_count": 14,
   "metadata": {},
   "outputs": [],
   "source": [
    "# Create List that contains each Standard Remark, and the Heading/Direction\n",
    "# information contained in each remark\n",
    "\n",
    "remark_uas_loc = []\n",
    "remarks = faa_standard['REMARKS']\n",
    "\n",
    "# regular expression for any heading/direction\n",
    "headir_regex = '[0-9][0-9]*[0-9]*\\s?NM* [N|S|E|W|NW|NE|SW|SE|SSE|SSW|SNE|SNW|NNE|NSE|NNE|NNW|WSW|WNW|WSE|WNE|ENE|ESE|ESW|ENW]*\\s?of?\\s?[A-Z][A-Z][A-Z][A-Z]?'\n",
    "\n",
    "# Loop through all remarks and search for the heading/direction regex above\n",
    "for i in range(len(remarks)):\n",
    "    head_dir = re.findall(headir_regex, remarks[i])\n",
    "    remark_uas_loc.append(remarks[i])\n",
    "    remark_uas_loc.append(head_dir)\n",
    "\n",
    "# Split Remarks and Heading/Directions into two seperate lists and create\n",
    "# pandas dataframe\n",
    "remark = []\n",
    "uas_loc = []\n",
    "\n",
    "for i in range(0, len(remark_uas_loc), 2):\n",
    "    remark.append(remark_uas_loc[i])\n",
    "    uas_loc.append(remark_uas_loc[i+1])\n",
    "\n",
    "remark_uas_loc_df = pd.DataFrame()\n",
    "remark_uas_loc_df['REMARKS'] = remark\n",
    "remark_uas_loc_df['UAS Location'] = uas_loc"
   ]
  },
  {
   "cell_type": "code",
   "execution_count": 15,
   "metadata": {},
   "outputs": [
    {
     "data": {
      "text/html": [
       "<div>\n",
       "<style scoped>\n",
       "    .dataframe tbody tr th:only-of-type {\n",
       "        vertical-align: middle;\n",
       "    }\n",
       "\n",
       "    .dataframe tbody tr th {\n",
       "        vertical-align: top;\n",
       "    }\n",
       "\n",
       "    .dataframe thead th {\n",
       "        text-align: right;\n",
       "    }\n",
       "</style>\n",
       "<table border=\"1\" class=\"dataframe\">\n",
       "  <thead>\n",
       "    <tr style=\"text-align: right;\">\n",
       "      <th></th>\n",
       "      <th>REMARKS</th>\n",
       "      <th>UAS Location</th>\n",
       "    </tr>\n",
       "  </thead>\n",
       "  <tbody>\n",
       "    <tr>\n",
       "      <th>0</th>\n",
       "      <td>Aircraft observed alarge orange UAS with flash...</td>\n",
       "      <td>[3 NM NNW of CLE]</td>\n",
       "    </tr>\n",
       "    <tr>\n",
       "      <th>1</th>\n",
       "      <td>Aircraft observed a UAS while at 5,000 feet 11...</td>\n",
       "      <td>[11 NM SSE of SLC]</td>\n",
       "    </tr>\n",
       "    <tr>\n",
       "      <th>2</th>\n",
       "      <td>Aircraft observed a UAS while at 5,000 feet 11...</td>\n",
       "      <td>[11 NM SSE of SLC]</td>\n",
       "    </tr>\n",
       "    <tr>\n",
       "      <th>3</th>\n",
       "      <td>Aircraft observed a UAS 100 feet above the Air...</td>\n",
       "      <td>[]</td>\n",
       "    </tr>\n",
       "    <tr>\n",
       "      <th>4</th>\n",
       "      <td>Aircraft observed a UAS operating 400 feet bel...</td>\n",
       "      <td>[]</td>\n",
       "    </tr>\n",
       "    <tr>\n",
       "      <th>...</th>\n",
       "      <td>...</td>\n",
       "      <td>...</td>\n",
       "    </tr>\n",
       "    <tr>\n",
       "      <th>5186</th>\n",
       "      <td>Aircraft reported a 50' diameter white balloon...</td>\n",
       "      <td>[]</td>\n",
       "    </tr>\n",
       "    <tr>\n",
       "      <th>5187</th>\n",
       "      <td>Aircraft observed a white UAS while S bound at...</td>\n",
       "      <td>[]</td>\n",
       "    </tr>\n",
       "    <tr>\n",
       "      <th>5188</th>\n",
       "      <td>Aircraft reported a UAS sensor hit while N bou...</td>\n",
       "      <td>[21 NM NW of BXK]</td>\n",
       "    </tr>\n",
       "    <tr>\n",
       "      <th>5189</th>\n",
       "      <td>From MOR: Aircraft reported a NMAC with a flat...</td>\n",
       "      <td>[5 NM ENE of DRK]</td>\n",
       "    </tr>\n",
       "    <tr>\n",
       "      <th>5190</th>\n",
       "      <td>Aircraft reported an unidentified aerial pheno...</td>\n",
       "      <td>[29 NM SW of GCN]</td>\n",
       "    </tr>\n",
       "  </tbody>\n",
       "</table>\n",
       "<p>5191 rows × 2 columns</p>\n",
       "</div>"
      ],
      "text/plain": [
       "                                                REMARKS        UAS Location\n",
       "0     Aircraft observed alarge orange UAS with flash...   [3 NM NNW of CLE]\n",
       "1     Aircraft observed a UAS while at 5,000 feet 11...  [11 NM SSE of SLC]\n",
       "2     Aircraft observed a UAS while at 5,000 feet 11...  [11 NM SSE of SLC]\n",
       "3     Aircraft observed a UAS 100 feet above the Air...                  []\n",
       "4     Aircraft observed a UAS operating 400 feet bel...                  []\n",
       "...                                                 ...                 ...\n",
       "5186  Aircraft reported a 50' diameter white balloon...                  []\n",
       "5187  Aircraft observed a white UAS while S bound at...                  []\n",
       "5188  Aircraft reported a UAS sensor hit while N bou...   [21 NM NW of BXK]\n",
       "5189  From MOR: Aircraft reported a NMAC with a flat...   [5 NM ENE of DRK]\n",
       "5190  Aircraft reported an unidentified aerial pheno...   [29 NM SW of GCN]\n",
       "\n",
       "[5191 rows x 2 columns]"
      ]
     },
     "execution_count": 15,
     "metadata": {},
     "output_type": "execute_result"
    }
   ],
   "source": [
    "remark_uas_loc_df"
   ]
  },
  {
   "cell_type": "code",
   "execution_count": 16,
   "metadata": {},
   "outputs": [],
   "source": [
    "# Export to .csv file\n",
    "remark_uas_loc_df.to_csv('remarks_uas_location.csv', index = False)"
   ]
  },
  {
   "cell_type": "markdown",
   "metadata": {},
   "source": [
    "#### Exploring UAS Locations"
   ]
  },
  {
   "cell_type": "code",
   "execution_count": 17,
   "metadata": {},
   "outputs": [],
   "source": [
    "# Get list of UAS locations from the above dataframe\n",
    "uas_loc = remark_uas_loc_df['UAS Location'] \n",
    "\n",
    "# If the regular expressions did not hit on any location information, pass it UNKN for now\n",
    "for i in range(len(remark_uas_loc_df)):\n",
    "    if len(uas_loc[i]) == 0:\n",
    "        uas_loc[i] = 'UNKN'"
   ]
  },
  {
   "cell_type": "code",
   "execution_count": 18,
   "metadata": {},
   "outputs": [
    {
     "data": {
      "text/plain": [
       "3033"
      ]
     },
     "execution_count": 18,
     "metadata": {},
     "output_type": "execute_result"
    }
   ],
   "source": [
    "len(uas_loc[uas_loc != 'UNKN']) # The regular expressions identified 3033 UAS locations from the Standard Format Remarks"
   ]
  },
  {
   "cell_type": "code",
   "execution_count": 19,
   "metadata": {},
   "outputs": [],
   "source": [
    "uas_loc_nonNull = uas_loc[uas_loc != 'UNKN'].to_list()\n",
    "uas_airport = []\n",
    "\n",
    "for i in range(len(uas_loc_nonNull)):\n",
    "    airport = uas_loc_nonNull[i][0].split(' ')[-1]\n",
    "    \n",
    "    if len(airport) <= 4:\n",
    "        uas_airport.append(airport)\n",
    "    else:\n",
    "        trim_air = airport[-3:]\n",
    "        uas_airport.append(trim_air) # we perform this trim to account for a lack of space, for example: 'ofCLE'"
   ]
  },
  {
   "cell_type": "code",
   "execution_count": 108,
   "metadata": {},
   "outputs": [
    {
     "data": {
      "text/html": [
       "<div>\n",
       "<style scoped>\n",
       "    .dataframe tbody tr th:only-of-type {\n",
       "        vertical-align: middle;\n",
       "    }\n",
       "\n",
       "    .dataframe tbody tr th {\n",
       "        vertical-align: top;\n",
       "    }\n",
       "\n",
       "    .dataframe thead th {\n",
       "        text-align: right;\n",
       "    }\n",
       "</style>\n",
       "<table border=\"1\" class=\"dataframe\">\n",
       "  <thead>\n",
       "    <tr style=\"text-align: right;\">\n",
       "      <th></th>\n",
       "      <th>IDENT</th>\n",
       "    </tr>\n",
       "  </thead>\n",
       "  <tbody>\n",
       "    <tr>\n",
       "      <th>0</th>\n",
       "      <td>CLE</td>\n",
       "    </tr>\n",
       "    <tr>\n",
       "      <th>1</th>\n",
       "      <td>SLC</td>\n",
       "    </tr>\n",
       "    <tr>\n",
       "      <th>2</th>\n",
       "      <td>SLC</td>\n",
       "    </tr>\n",
       "    <tr>\n",
       "      <th>3</th>\n",
       "      <td>SAN</td>\n",
       "    </tr>\n",
       "    <tr>\n",
       "      <th>4</th>\n",
       "      <td>ORL</td>\n",
       "    </tr>\n",
       "    <tr>\n",
       "      <th>...</th>\n",
       "      <td>...</td>\n",
       "    </tr>\n",
       "    <tr>\n",
       "      <th>3028</th>\n",
       "      <td>ADS</td>\n",
       "    </tr>\n",
       "    <tr>\n",
       "      <th>3029</th>\n",
       "      <td>MMU</td>\n",
       "    </tr>\n",
       "    <tr>\n",
       "      <th>3030</th>\n",
       "      <td>BXK</td>\n",
       "    </tr>\n",
       "    <tr>\n",
       "      <th>3031</th>\n",
       "      <td>DRK</td>\n",
       "    </tr>\n",
       "    <tr>\n",
       "      <th>3032</th>\n",
       "      <td>GCN</td>\n",
       "    </tr>\n",
       "  </tbody>\n",
       "</table>\n",
       "<p>3033 rows × 1 columns</p>\n",
       "</div>"
      ],
      "text/plain": [
       "     IDENT\n",
       "0      CLE\n",
       "1      SLC\n",
       "2      SLC\n",
       "3      SAN\n",
       "4      ORL\n",
       "...    ...\n",
       "3028   ADS\n",
       "3029   MMU\n",
       "3030   BXK\n",
       "3031   DRK\n",
       "3032   GCN\n",
       "\n",
       "[3033 rows x 1 columns]"
      ]
     },
     "execution_count": 108,
     "metadata": {},
     "output_type": "execute_result"
    }
   ],
   "source": [
    "uas_airport_df = pd.DataFrame()\n",
    "uas_airport_df['IDENT'] = uas_airport\n",
    "uas_airport_df"
   ]
  },
  {
   "cell_type": "code",
   "execution_count": 109,
   "metadata": {},
   "outputs": [
    {
     "data": {
      "text/html": [
       "<div>\n",
       "<style scoped>\n",
       "    .dataframe tbody tr th:only-of-type {\n",
       "        vertical-align: middle;\n",
       "    }\n",
       "\n",
       "    .dataframe tbody tr th {\n",
       "        vertical-align: top;\n",
       "    }\n",
       "\n",
       "    .dataframe thead th {\n",
       "        text-align: right;\n",
       "    }\n",
       "</style>\n",
       "<table border=\"1\" class=\"dataframe\">\n",
       "  <thead>\n",
       "    <tr style=\"text-align: right;\">\n",
       "      <th></th>\n",
       "      <th>index</th>\n",
       "      <th>REMARKS</th>\n",
       "      <th>UAS Location</th>\n",
       "    </tr>\n",
       "  </thead>\n",
       "  <tbody>\n",
       "    <tr>\n",
       "      <th>0</th>\n",
       "      <td>0</td>\n",
       "      <td>Aircraft observed alarge orange UAS with flash...</td>\n",
       "      <td>[3 NM NNW of CLE]</td>\n",
       "    </tr>\n",
       "    <tr>\n",
       "      <th>1</th>\n",
       "      <td>1</td>\n",
       "      <td>Aircraft observed a UAS while at 5,000 feet 11...</td>\n",
       "      <td>[11 NM SSE of SLC]</td>\n",
       "    </tr>\n",
       "    <tr>\n",
       "      <th>2</th>\n",
       "      <td>2</td>\n",
       "      <td>Aircraft observed a UAS while at 5,000 feet 11...</td>\n",
       "      <td>[11 NM SSE of SLC]</td>\n",
       "    </tr>\n",
       "    <tr>\n",
       "      <th>3</th>\n",
       "      <td>5</td>\n",
       "      <td>Aircraft observed a multi-colored UAS off the ...</td>\n",
       "      <td>[7NM E of SAN]</td>\n",
       "    </tr>\n",
       "    <tr>\n",
       "      <th>4</th>\n",
       "      <td>10</td>\n",
       "      <td>Aircraft observed a triangular shaped, grey an...</td>\n",
       "      <td>[23NM SW of ORL]</td>\n",
       "    </tr>\n",
       "    <tr>\n",
       "      <th>...</th>\n",
       "      <td>...</td>\n",
       "      <td>...</td>\n",
       "      <td>...</td>\n",
       "    </tr>\n",
       "    <tr>\n",
       "      <th>3028</th>\n",
       "      <td>5183</td>\n",
       "      <td>Aircraft reported a quad-copter UAS at 12 O'cl...</td>\n",
       "      <td>[10 NM SE of ADS]</td>\n",
       "    </tr>\n",
       "    <tr>\n",
       "      <th>3029</th>\n",
       "      <td>5185</td>\n",
       "      <td>Aircraft reported a UAS 3 NM N of MMU while E ...</td>\n",
       "      <td>[3 NM N of MMU]</td>\n",
       "    </tr>\n",
       "    <tr>\n",
       "      <th>3030</th>\n",
       "      <td>5188</td>\n",
       "      <td>Aircraft reported a UAS sensor hit while N bou...</td>\n",
       "      <td>[21 NM NW of BXK]</td>\n",
       "    </tr>\n",
       "    <tr>\n",
       "      <th>3031</th>\n",
       "      <td>5189</td>\n",
       "      <td>From MOR: Aircraft reported a NMAC with a flat...</td>\n",
       "      <td>[5 NM ENE of DRK]</td>\n",
       "    </tr>\n",
       "    <tr>\n",
       "      <th>3032</th>\n",
       "      <td>5190</td>\n",
       "      <td>Aircraft reported an unidentified aerial pheno...</td>\n",
       "      <td>[29 NM SW of GCN]</td>\n",
       "    </tr>\n",
       "  </tbody>\n",
       "</table>\n",
       "<p>3033 rows × 3 columns</p>\n",
       "</div>"
      ],
      "text/plain": [
       "      index                                            REMARKS  \\\n",
       "0         0  Aircraft observed alarge orange UAS with flash...   \n",
       "1         1  Aircraft observed a UAS while at 5,000 feet 11...   \n",
       "2         2  Aircraft observed a UAS while at 5,000 feet 11...   \n",
       "3         5  Aircraft observed a multi-colored UAS off the ...   \n",
       "4        10  Aircraft observed a triangular shaped, grey an...   \n",
       "...     ...                                                ...   \n",
       "3028   5183  Aircraft reported a quad-copter UAS at 12 O'cl...   \n",
       "3029   5185  Aircraft reported a UAS 3 NM N of MMU while E ...   \n",
       "3030   5188  Aircraft reported a UAS sensor hit while N bou...   \n",
       "3031   5189  From MOR: Aircraft reported a NMAC with a flat...   \n",
       "3032   5190  Aircraft reported an unidentified aerial pheno...   \n",
       "\n",
       "            UAS Location  \n",
       "0      [3 NM NNW of CLE]  \n",
       "1     [11 NM SSE of SLC]  \n",
       "2     [11 NM SSE of SLC]  \n",
       "3         [7NM E of SAN]  \n",
       "4       [23NM SW of ORL]  \n",
       "...                  ...  \n",
       "3028   [10 NM SE of ADS]  \n",
       "3029     [3 NM N of MMU]  \n",
       "3030   [21 NM NW of BXK]  \n",
       "3031   [5 NM ENE of DRK]  \n",
       "3032   [29 NM SW of GCN]  \n",
       "\n",
       "[3033 rows x 3 columns]"
      ]
     },
     "execution_count": 109,
     "metadata": {},
     "output_type": "execute_result"
    }
   ],
   "source": [
    "# Create Dataframe of Standard Format Remarks with NON NULL UAS Locations\n",
    "remark_uas_loc_nn = remark_uas_loc_df[remark_uas_loc_df['UAS Location'] != 'UNKN'].reset_index()\n",
    "remark_uas_loc_nn"
   ]
  },
  {
   "cell_type": "code",
   "execution_count": 72,
   "metadata": {},
   "outputs": [
    {
     "data": {
      "application/vnd.plotly.v1+json": {
       "config": {
        "plotlyServerURL": "https://plot.ly"
       },
       "data": [
        {
         "alignmentgroup": "True",
         "hovertemplate": "IDENT=%{x}<br>Count=%{y}<extra></extra>",
         "legendgroup": "",
         "marker": {
          "color": "#636efa",
          "pattern": {
           "shape": ""
          }
         },
         "name": "",
         "offsetgroup": "",
         "orientation": "v",
         "showlegend": false,
         "textposition": "auto",
         "type": "bar",
         "x": [
          "LAX",
          "LGA",
          "ORD",
          "JFK",
          "LAS",
          "DEN",
          "EWR",
          "CLT",
          "MIA",
          "IAH",
          "ATL",
          "DFW",
          "PBI",
          "PHX",
          "BOS",
          "ORL",
          "SEA",
          "RDU",
          "SJC",
          "MDW"
         ],
         "xaxis": "x",
         "y": [
          97,
          85,
          73,
          71,
          50,
          50,
          49,
          48,
          47,
          46,
          45,
          44,
          36,
          35,
          33,
          33,
          33,
          32,
          31,
          30
         ],
         "yaxis": "y"
        }
       ],
       "layout": {
        "barmode": "relative",
        "legend": {
         "tracegroupgap": 0
        },
        "template": {
         "data": {
          "bar": [
           {
            "error_x": {
             "color": "#2a3f5f"
            },
            "error_y": {
             "color": "#2a3f5f"
            },
            "marker": {
             "line": {
              "color": "#E5ECF6",
              "width": 0.5
             },
             "pattern": {
              "fillmode": "overlay",
              "size": 10,
              "solidity": 0.2
             }
            },
            "type": "bar"
           }
          ],
          "barpolar": [
           {
            "marker": {
             "line": {
              "color": "#E5ECF6",
              "width": 0.5
             },
             "pattern": {
              "fillmode": "overlay",
              "size": 10,
              "solidity": 0.2
             }
            },
            "type": "barpolar"
           }
          ],
          "carpet": [
           {
            "aaxis": {
             "endlinecolor": "#2a3f5f",
             "gridcolor": "white",
             "linecolor": "white",
             "minorgridcolor": "white",
             "startlinecolor": "#2a3f5f"
            },
            "baxis": {
             "endlinecolor": "#2a3f5f",
             "gridcolor": "white",
             "linecolor": "white",
             "minorgridcolor": "white",
             "startlinecolor": "#2a3f5f"
            },
            "type": "carpet"
           }
          ],
          "choropleth": [
           {
            "colorbar": {
             "outlinewidth": 0,
             "ticks": ""
            },
            "type": "choropleth"
           }
          ],
          "contour": [
           {
            "colorbar": {
             "outlinewidth": 0,
             "ticks": ""
            },
            "colorscale": [
             [
              0,
              "#0d0887"
             ],
             [
              0.1111111111111111,
              "#46039f"
             ],
             [
              0.2222222222222222,
              "#7201a8"
             ],
             [
              0.3333333333333333,
              "#9c179e"
             ],
             [
              0.4444444444444444,
              "#bd3786"
             ],
             [
              0.5555555555555556,
              "#d8576b"
             ],
             [
              0.6666666666666666,
              "#ed7953"
             ],
             [
              0.7777777777777778,
              "#fb9f3a"
             ],
             [
              0.8888888888888888,
              "#fdca26"
             ],
             [
              1,
              "#f0f921"
             ]
            ],
            "type": "contour"
           }
          ],
          "contourcarpet": [
           {
            "colorbar": {
             "outlinewidth": 0,
             "ticks": ""
            },
            "type": "contourcarpet"
           }
          ],
          "heatmap": [
           {
            "colorbar": {
             "outlinewidth": 0,
             "ticks": ""
            },
            "colorscale": [
             [
              0,
              "#0d0887"
             ],
             [
              0.1111111111111111,
              "#46039f"
             ],
             [
              0.2222222222222222,
              "#7201a8"
             ],
             [
              0.3333333333333333,
              "#9c179e"
             ],
             [
              0.4444444444444444,
              "#bd3786"
             ],
             [
              0.5555555555555556,
              "#d8576b"
             ],
             [
              0.6666666666666666,
              "#ed7953"
             ],
             [
              0.7777777777777778,
              "#fb9f3a"
             ],
             [
              0.8888888888888888,
              "#fdca26"
             ],
             [
              1,
              "#f0f921"
             ]
            ],
            "type": "heatmap"
           }
          ],
          "heatmapgl": [
           {
            "colorbar": {
             "outlinewidth": 0,
             "ticks": ""
            },
            "colorscale": [
             [
              0,
              "#0d0887"
             ],
             [
              0.1111111111111111,
              "#46039f"
             ],
             [
              0.2222222222222222,
              "#7201a8"
             ],
             [
              0.3333333333333333,
              "#9c179e"
             ],
             [
              0.4444444444444444,
              "#bd3786"
             ],
             [
              0.5555555555555556,
              "#d8576b"
             ],
             [
              0.6666666666666666,
              "#ed7953"
             ],
             [
              0.7777777777777778,
              "#fb9f3a"
             ],
             [
              0.8888888888888888,
              "#fdca26"
             ],
             [
              1,
              "#f0f921"
             ]
            ],
            "type": "heatmapgl"
           }
          ],
          "histogram": [
           {
            "marker": {
             "pattern": {
              "fillmode": "overlay",
              "size": 10,
              "solidity": 0.2
             }
            },
            "type": "histogram"
           }
          ],
          "histogram2d": [
           {
            "colorbar": {
             "outlinewidth": 0,
             "ticks": ""
            },
            "colorscale": [
             [
              0,
              "#0d0887"
             ],
             [
              0.1111111111111111,
              "#46039f"
             ],
             [
              0.2222222222222222,
              "#7201a8"
             ],
             [
              0.3333333333333333,
              "#9c179e"
             ],
             [
              0.4444444444444444,
              "#bd3786"
             ],
             [
              0.5555555555555556,
              "#d8576b"
             ],
             [
              0.6666666666666666,
              "#ed7953"
             ],
             [
              0.7777777777777778,
              "#fb9f3a"
             ],
             [
              0.8888888888888888,
              "#fdca26"
             ],
             [
              1,
              "#f0f921"
             ]
            ],
            "type": "histogram2d"
           }
          ],
          "histogram2dcontour": [
           {
            "colorbar": {
             "outlinewidth": 0,
             "ticks": ""
            },
            "colorscale": [
             [
              0,
              "#0d0887"
             ],
             [
              0.1111111111111111,
              "#46039f"
             ],
             [
              0.2222222222222222,
              "#7201a8"
             ],
             [
              0.3333333333333333,
              "#9c179e"
             ],
             [
              0.4444444444444444,
              "#bd3786"
             ],
             [
              0.5555555555555556,
              "#d8576b"
             ],
             [
              0.6666666666666666,
              "#ed7953"
             ],
             [
              0.7777777777777778,
              "#fb9f3a"
             ],
             [
              0.8888888888888888,
              "#fdca26"
             ],
             [
              1,
              "#f0f921"
             ]
            ],
            "type": "histogram2dcontour"
           }
          ],
          "mesh3d": [
           {
            "colorbar": {
             "outlinewidth": 0,
             "ticks": ""
            },
            "type": "mesh3d"
           }
          ],
          "parcoords": [
           {
            "line": {
             "colorbar": {
              "outlinewidth": 0,
              "ticks": ""
             }
            },
            "type": "parcoords"
           }
          ],
          "pie": [
           {
            "automargin": true,
            "type": "pie"
           }
          ],
          "scatter": [
           {
            "marker": {
             "colorbar": {
              "outlinewidth": 0,
              "ticks": ""
             }
            },
            "type": "scatter"
           }
          ],
          "scatter3d": [
           {
            "line": {
             "colorbar": {
              "outlinewidth": 0,
              "ticks": ""
             }
            },
            "marker": {
             "colorbar": {
              "outlinewidth": 0,
              "ticks": ""
             }
            },
            "type": "scatter3d"
           }
          ],
          "scattercarpet": [
           {
            "marker": {
             "colorbar": {
              "outlinewidth": 0,
              "ticks": ""
             }
            },
            "type": "scattercarpet"
           }
          ],
          "scattergeo": [
           {
            "marker": {
             "colorbar": {
              "outlinewidth": 0,
              "ticks": ""
             }
            },
            "type": "scattergeo"
           }
          ],
          "scattergl": [
           {
            "marker": {
             "colorbar": {
              "outlinewidth": 0,
              "ticks": ""
             }
            },
            "type": "scattergl"
           }
          ],
          "scattermapbox": [
           {
            "marker": {
             "colorbar": {
              "outlinewidth": 0,
              "ticks": ""
             }
            },
            "type": "scattermapbox"
           }
          ],
          "scatterpolar": [
           {
            "marker": {
             "colorbar": {
              "outlinewidth": 0,
              "ticks": ""
             }
            },
            "type": "scatterpolar"
           }
          ],
          "scatterpolargl": [
           {
            "marker": {
             "colorbar": {
              "outlinewidth": 0,
              "ticks": ""
             }
            },
            "type": "scatterpolargl"
           }
          ],
          "scatterternary": [
           {
            "marker": {
             "colorbar": {
              "outlinewidth": 0,
              "ticks": ""
             }
            },
            "type": "scatterternary"
           }
          ],
          "surface": [
           {
            "colorbar": {
             "outlinewidth": 0,
             "ticks": ""
            },
            "colorscale": [
             [
              0,
              "#0d0887"
             ],
             [
              0.1111111111111111,
              "#46039f"
             ],
             [
              0.2222222222222222,
              "#7201a8"
             ],
             [
              0.3333333333333333,
              "#9c179e"
             ],
             [
              0.4444444444444444,
              "#bd3786"
             ],
             [
              0.5555555555555556,
              "#d8576b"
             ],
             [
              0.6666666666666666,
              "#ed7953"
             ],
             [
              0.7777777777777778,
              "#fb9f3a"
             ],
             [
              0.8888888888888888,
              "#fdca26"
             ],
             [
              1,
              "#f0f921"
             ]
            ],
            "type": "surface"
           }
          ],
          "table": [
           {
            "cells": {
             "fill": {
              "color": "#EBF0F8"
             },
             "line": {
              "color": "white"
             }
            },
            "header": {
             "fill": {
              "color": "#C8D4E3"
             },
             "line": {
              "color": "white"
             }
            },
            "type": "table"
           }
          ]
         },
         "layout": {
          "annotationdefaults": {
           "arrowcolor": "#2a3f5f",
           "arrowhead": 0,
           "arrowwidth": 1
          },
          "autotypenumbers": "strict",
          "coloraxis": {
           "colorbar": {
            "outlinewidth": 0,
            "ticks": ""
           }
          },
          "colorscale": {
           "diverging": [
            [
             0,
             "#8e0152"
            ],
            [
             0.1,
             "#c51b7d"
            ],
            [
             0.2,
             "#de77ae"
            ],
            [
             0.3,
             "#f1b6da"
            ],
            [
             0.4,
             "#fde0ef"
            ],
            [
             0.5,
             "#f7f7f7"
            ],
            [
             0.6,
             "#e6f5d0"
            ],
            [
             0.7,
             "#b8e186"
            ],
            [
             0.8,
             "#7fbc41"
            ],
            [
             0.9,
             "#4d9221"
            ],
            [
             1,
             "#276419"
            ]
           ],
           "sequential": [
            [
             0,
             "#0d0887"
            ],
            [
             0.1111111111111111,
             "#46039f"
            ],
            [
             0.2222222222222222,
             "#7201a8"
            ],
            [
             0.3333333333333333,
             "#9c179e"
            ],
            [
             0.4444444444444444,
             "#bd3786"
            ],
            [
             0.5555555555555556,
             "#d8576b"
            ],
            [
             0.6666666666666666,
             "#ed7953"
            ],
            [
             0.7777777777777778,
             "#fb9f3a"
            ],
            [
             0.8888888888888888,
             "#fdca26"
            ],
            [
             1,
             "#f0f921"
            ]
           ],
           "sequentialminus": [
            [
             0,
             "#0d0887"
            ],
            [
             0.1111111111111111,
             "#46039f"
            ],
            [
             0.2222222222222222,
             "#7201a8"
            ],
            [
             0.3333333333333333,
             "#9c179e"
            ],
            [
             0.4444444444444444,
             "#bd3786"
            ],
            [
             0.5555555555555556,
             "#d8576b"
            ],
            [
             0.6666666666666666,
             "#ed7953"
            ],
            [
             0.7777777777777778,
             "#fb9f3a"
            ],
            [
             0.8888888888888888,
             "#fdca26"
            ],
            [
             1,
             "#f0f921"
            ]
           ]
          },
          "colorway": [
           "#636efa",
           "#EF553B",
           "#00cc96",
           "#ab63fa",
           "#FFA15A",
           "#19d3f3",
           "#FF6692",
           "#B6E880",
           "#FF97FF",
           "#FECB52"
          ],
          "font": {
           "color": "#2a3f5f"
          },
          "geo": {
           "bgcolor": "white",
           "lakecolor": "white",
           "landcolor": "#E5ECF6",
           "showlakes": true,
           "showland": true,
           "subunitcolor": "white"
          },
          "hoverlabel": {
           "align": "left"
          },
          "hovermode": "closest",
          "mapbox": {
           "style": "light"
          },
          "paper_bgcolor": "white",
          "plot_bgcolor": "#E5ECF6",
          "polar": {
           "angularaxis": {
            "gridcolor": "white",
            "linecolor": "white",
            "ticks": ""
           },
           "bgcolor": "#E5ECF6",
           "radialaxis": {
            "gridcolor": "white",
            "linecolor": "white",
            "ticks": ""
           }
          },
          "scene": {
           "xaxis": {
            "backgroundcolor": "#E5ECF6",
            "gridcolor": "white",
            "gridwidth": 2,
            "linecolor": "white",
            "showbackground": true,
            "ticks": "",
            "zerolinecolor": "white"
           },
           "yaxis": {
            "backgroundcolor": "#E5ECF6",
            "gridcolor": "white",
            "gridwidth": 2,
            "linecolor": "white",
            "showbackground": true,
            "ticks": "",
            "zerolinecolor": "white"
           },
           "zaxis": {
            "backgroundcolor": "#E5ECF6",
            "gridcolor": "white",
            "gridwidth": 2,
            "linecolor": "white",
            "showbackground": true,
            "ticks": "",
            "zerolinecolor": "white"
           }
          },
          "shapedefaults": {
           "line": {
            "color": "#2a3f5f"
           }
          },
          "ternary": {
           "aaxis": {
            "gridcolor": "white",
            "linecolor": "white",
            "ticks": ""
           },
           "baxis": {
            "gridcolor": "white",
            "linecolor": "white",
            "ticks": ""
           },
           "bgcolor": "#E5ECF6",
           "caxis": {
            "gridcolor": "white",
            "linecolor": "white",
            "ticks": ""
           }
          },
          "title": {
           "x": 0.05
          },
          "xaxis": {
           "automargin": true,
           "gridcolor": "white",
           "linecolor": "white",
           "ticks": "",
           "title": {
            "standoff": 15
           },
           "zerolinecolor": "white",
           "zerolinewidth": 2
          },
          "yaxis": {
           "automargin": true,
           "gridcolor": "white",
           "linecolor": "white",
           "ticks": "",
           "title": {
            "standoff": 15
           },
           "zerolinecolor": "white",
           "zerolinewidth": 2
          }
         }
        },
        "title": {
         "text": "Top 20 Airports with Nearby UAS Sightings Recorded through SkyWatch with Standard Format"
        },
        "xaxis": {
         "anchor": "y",
         "domain": [
          0,
          1
         ],
         "title": {
          "text": "FAA Airport Identifier"
         }
        },
        "yaxis": {
         "anchor": "x",
         "domain": [
          0,
          1
         ],
         "title": {
          "text": "Count of UAS Sightings Recorded"
         }
        }
       }
      },
      "text/html": [
       "<div>                            <div id=\"17ac3b24-a952-4444-bbb0-36440052b574\" class=\"plotly-graph-div\" style=\"height:525px; width:100%;\"></div>            <script type=\"text/javascript\">                require([\"plotly\"], function(Plotly) {                    window.PLOTLYENV=window.PLOTLYENV || {};                                    if (document.getElementById(\"17ac3b24-a952-4444-bbb0-36440052b574\")) {                    Plotly.newPlot(                        \"17ac3b24-a952-4444-bbb0-36440052b574\",                        [{\"alignmentgroup\":\"True\",\"hovertemplate\":\"IDENT=%{x}<br>Count=%{y}<extra></extra>\",\"legendgroup\":\"\",\"marker\":{\"color\":\"#636efa\",\"pattern\":{\"shape\":\"\"}},\"name\":\"\",\"offsetgroup\":\"\",\"orientation\":\"v\",\"showlegend\":false,\"textposition\":\"auto\",\"type\":\"bar\",\"x\":[\"LAX\",\"LGA\",\"ORD\",\"JFK\",\"LAS\",\"DEN\",\"EWR\",\"CLT\",\"MIA\",\"IAH\",\"ATL\",\"DFW\",\"PBI\",\"PHX\",\"BOS\",\"ORL\",\"SEA\",\"RDU\",\"SJC\",\"MDW\"],\"xaxis\":\"x\",\"y\":[97,85,73,71,50,50,49,48,47,46,45,44,36,35,33,33,33,32,31,30],\"yaxis\":\"y\"}],                        {\"barmode\":\"relative\",\"legend\":{\"tracegroupgap\":0},\"template\":{\"data\":{\"bar\":[{\"error_x\":{\"color\":\"#2a3f5f\"},\"error_y\":{\"color\":\"#2a3f5f\"},\"marker\":{\"line\":{\"color\":\"#E5ECF6\",\"width\":0.5},\"pattern\":{\"fillmode\":\"overlay\",\"size\":10,\"solidity\":0.2}},\"type\":\"bar\"}],\"barpolar\":[{\"marker\":{\"line\":{\"color\":\"#E5ECF6\",\"width\":0.5},\"pattern\":{\"fillmode\":\"overlay\",\"size\":10,\"solidity\":0.2}},\"type\":\"barpolar\"}],\"carpet\":[{\"aaxis\":{\"endlinecolor\":\"#2a3f5f\",\"gridcolor\":\"white\",\"linecolor\":\"white\",\"minorgridcolor\":\"white\",\"startlinecolor\":\"#2a3f5f\"},\"baxis\":{\"endlinecolor\":\"#2a3f5f\",\"gridcolor\":\"white\",\"linecolor\":\"white\",\"minorgridcolor\":\"white\",\"startlinecolor\":\"#2a3f5f\"},\"type\":\"carpet\"}],\"choropleth\":[{\"colorbar\":{\"outlinewidth\":0,\"ticks\":\"\"},\"type\":\"choropleth\"}],\"contour\":[{\"colorbar\":{\"outlinewidth\":0,\"ticks\":\"\"},\"colorscale\":[[0.0,\"#0d0887\"],[0.1111111111111111,\"#46039f\"],[0.2222222222222222,\"#7201a8\"],[0.3333333333333333,\"#9c179e\"],[0.4444444444444444,\"#bd3786\"],[0.5555555555555556,\"#d8576b\"],[0.6666666666666666,\"#ed7953\"],[0.7777777777777778,\"#fb9f3a\"],[0.8888888888888888,\"#fdca26\"],[1.0,\"#f0f921\"]],\"type\":\"contour\"}],\"contourcarpet\":[{\"colorbar\":{\"outlinewidth\":0,\"ticks\":\"\"},\"type\":\"contourcarpet\"}],\"heatmap\":[{\"colorbar\":{\"outlinewidth\":0,\"ticks\":\"\"},\"colorscale\":[[0.0,\"#0d0887\"],[0.1111111111111111,\"#46039f\"],[0.2222222222222222,\"#7201a8\"],[0.3333333333333333,\"#9c179e\"],[0.4444444444444444,\"#bd3786\"],[0.5555555555555556,\"#d8576b\"],[0.6666666666666666,\"#ed7953\"],[0.7777777777777778,\"#fb9f3a\"],[0.8888888888888888,\"#fdca26\"],[1.0,\"#f0f921\"]],\"type\":\"heatmap\"}],\"heatmapgl\":[{\"colorbar\":{\"outlinewidth\":0,\"ticks\":\"\"},\"colorscale\":[[0.0,\"#0d0887\"],[0.1111111111111111,\"#46039f\"],[0.2222222222222222,\"#7201a8\"],[0.3333333333333333,\"#9c179e\"],[0.4444444444444444,\"#bd3786\"],[0.5555555555555556,\"#d8576b\"],[0.6666666666666666,\"#ed7953\"],[0.7777777777777778,\"#fb9f3a\"],[0.8888888888888888,\"#fdca26\"],[1.0,\"#f0f921\"]],\"type\":\"heatmapgl\"}],\"histogram\":[{\"marker\":{\"pattern\":{\"fillmode\":\"overlay\",\"size\":10,\"solidity\":0.2}},\"type\":\"histogram\"}],\"histogram2d\":[{\"colorbar\":{\"outlinewidth\":0,\"ticks\":\"\"},\"colorscale\":[[0.0,\"#0d0887\"],[0.1111111111111111,\"#46039f\"],[0.2222222222222222,\"#7201a8\"],[0.3333333333333333,\"#9c179e\"],[0.4444444444444444,\"#bd3786\"],[0.5555555555555556,\"#d8576b\"],[0.6666666666666666,\"#ed7953\"],[0.7777777777777778,\"#fb9f3a\"],[0.8888888888888888,\"#fdca26\"],[1.0,\"#f0f921\"]],\"type\":\"histogram2d\"}],\"histogram2dcontour\":[{\"colorbar\":{\"outlinewidth\":0,\"ticks\":\"\"},\"colorscale\":[[0.0,\"#0d0887\"],[0.1111111111111111,\"#46039f\"],[0.2222222222222222,\"#7201a8\"],[0.3333333333333333,\"#9c179e\"],[0.4444444444444444,\"#bd3786\"],[0.5555555555555556,\"#d8576b\"],[0.6666666666666666,\"#ed7953\"],[0.7777777777777778,\"#fb9f3a\"],[0.8888888888888888,\"#fdca26\"],[1.0,\"#f0f921\"]],\"type\":\"histogram2dcontour\"}],\"mesh3d\":[{\"colorbar\":{\"outlinewidth\":0,\"ticks\":\"\"},\"type\":\"mesh3d\"}],\"parcoords\":[{\"line\":{\"colorbar\":{\"outlinewidth\":0,\"ticks\":\"\"}},\"type\":\"parcoords\"}],\"pie\":[{\"automargin\":true,\"type\":\"pie\"}],\"scatter\":[{\"marker\":{\"colorbar\":{\"outlinewidth\":0,\"ticks\":\"\"}},\"type\":\"scatter\"}],\"scatter3d\":[{\"line\":{\"colorbar\":{\"outlinewidth\":0,\"ticks\":\"\"}},\"marker\":{\"colorbar\":{\"outlinewidth\":0,\"ticks\":\"\"}},\"type\":\"scatter3d\"}],\"scattercarpet\":[{\"marker\":{\"colorbar\":{\"outlinewidth\":0,\"ticks\":\"\"}},\"type\":\"scattercarpet\"}],\"scattergeo\":[{\"marker\":{\"colorbar\":{\"outlinewidth\":0,\"ticks\":\"\"}},\"type\":\"scattergeo\"}],\"scattergl\":[{\"marker\":{\"colorbar\":{\"outlinewidth\":0,\"ticks\":\"\"}},\"type\":\"scattergl\"}],\"scattermapbox\":[{\"marker\":{\"colorbar\":{\"outlinewidth\":0,\"ticks\":\"\"}},\"type\":\"scattermapbox\"}],\"scatterpolar\":[{\"marker\":{\"colorbar\":{\"outlinewidth\":0,\"ticks\":\"\"}},\"type\":\"scatterpolar\"}],\"scatterpolargl\":[{\"marker\":{\"colorbar\":{\"outlinewidth\":0,\"ticks\":\"\"}},\"type\":\"scatterpolargl\"}],\"scatterternary\":[{\"marker\":{\"colorbar\":{\"outlinewidth\":0,\"ticks\":\"\"}},\"type\":\"scatterternary\"}],\"surface\":[{\"colorbar\":{\"outlinewidth\":0,\"ticks\":\"\"},\"colorscale\":[[0.0,\"#0d0887\"],[0.1111111111111111,\"#46039f\"],[0.2222222222222222,\"#7201a8\"],[0.3333333333333333,\"#9c179e\"],[0.4444444444444444,\"#bd3786\"],[0.5555555555555556,\"#d8576b\"],[0.6666666666666666,\"#ed7953\"],[0.7777777777777778,\"#fb9f3a\"],[0.8888888888888888,\"#fdca26\"],[1.0,\"#f0f921\"]],\"type\":\"surface\"}],\"table\":[{\"cells\":{\"fill\":{\"color\":\"#EBF0F8\"},\"line\":{\"color\":\"white\"}},\"header\":{\"fill\":{\"color\":\"#C8D4E3\"},\"line\":{\"color\":\"white\"}},\"type\":\"table\"}]},\"layout\":{\"annotationdefaults\":{\"arrowcolor\":\"#2a3f5f\",\"arrowhead\":0,\"arrowwidth\":1},\"autotypenumbers\":\"strict\",\"coloraxis\":{\"colorbar\":{\"outlinewidth\":0,\"ticks\":\"\"}},\"colorscale\":{\"diverging\":[[0,\"#8e0152\"],[0.1,\"#c51b7d\"],[0.2,\"#de77ae\"],[0.3,\"#f1b6da\"],[0.4,\"#fde0ef\"],[0.5,\"#f7f7f7\"],[0.6,\"#e6f5d0\"],[0.7,\"#b8e186\"],[0.8,\"#7fbc41\"],[0.9,\"#4d9221\"],[1,\"#276419\"]],\"sequential\":[[0.0,\"#0d0887\"],[0.1111111111111111,\"#46039f\"],[0.2222222222222222,\"#7201a8\"],[0.3333333333333333,\"#9c179e\"],[0.4444444444444444,\"#bd3786\"],[0.5555555555555556,\"#d8576b\"],[0.6666666666666666,\"#ed7953\"],[0.7777777777777778,\"#fb9f3a\"],[0.8888888888888888,\"#fdca26\"],[1.0,\"#f0f921\"]],\"sequentialminus\":[[0.0,\"#0d0887\"],[0.1111111111111111,\"#46039f\"],[0.2222222222222222,\"#7201a8\"],[0.3333333333333333,\"#9c179e\"],[0.4444444444444444,\"#bd3786\"],[0.5555555555555556,\"#d8576b\"],[0.6666666666666666,\"#ed7953\"],[0.7777777777777778,\"#fb9f3a\"],[0.8888888888888888,\"#fdca26\"],[1.0,\"#f0f921\"]]},\"colorway\":[\"#636efa\",\"#EF553B\",\"#00cc96\",\"#ab63fa\",\"#FFA15A\",\"#19d3f3\",\"#FF6692\",\"#B6E880\",\"#FF97FF\",\"#FECB52\"],\"font\":{\"color\":\"#2a3f5f\"},\"geo\":{\"bgcolor\":\"white\",\"lakecolor\":\"white\",\"landcolor\":\"#E5ECF6\",\"showlakes\":true,\"showland\":true,\"subunitcolor\":\"white\"},\"hoverlabel\":{\"align\":\"left\"},\"hovermode\":\"closest\",\"mapbox\":{\"style\":\"light\"},\"paper_bgcolor\":\"white\",\"plot_bgcolor\":\"#E5ECF6\",\"polar\":{\"angularaxis\":{\"gridcolor\":\"white\",\"linecolor\":\"white\",\"ticks\":\"\"},\"bgcolor\":\"#E5ECF6\",\"radialaxis\":{\"gridcolor\":\"white\",\"linecolor\":\"white\",\"ticks\":\"\"}},\"scene\":{\"xaxis\":{\"backgroundcolor\":\"#E5ECF6\",\"gridcolor\":\"white\",\"gridwidth\":2,\"linecolor\":\"white\",\"showbackground\":true,\"ticks\":\"\",\"zerolinecolor\":\"white\"},\"yaxis\":{\"backgroundcolor\":\"#E5ECF6\",\"gridcolor\":\"white\",\"gridwidth\":2,\"linecolor\":\"white\",\"showbackground\":true,\"ticks\":\"\",\"zerolinecolor\":\"white\"},\"zaxis\":{\"backgroundcolor\":\"#E5ECF6\",\"gridcolor\":\"white\",\"gridwidth\":2,\"linecolor\":\"white\",\"showbackground\":true,\"ticks\":\"\",\"zerolinecolor\":\"white\"}},\"shapedefaults\":{\"line\":{\"color\":\"#2a3f5f\"}},\"ternary\":{\"aaxis\":{\"gridcolor\":\"white\",\"linecolor\":\"white\",\"ticks\":\"\"},\"baxis\":{\"gridcolor\":\"white\",\"linecolor\":\"white\",\"ticks\":\"\"},\"bgcolor\":\"#E5ECF6\",\"caxis\":{\"gridcolor\":\"white\",\"linecolor\":\"white\",\"ticks\":\"\"}},\"title\":{\"x\":0.05},\"xaxis\":{\"automargin\":true,\"gridcolor\":\"white\",\"linecolor\":\"white\",\"ticks\":\"\",\"title\":{\"standoff\":15},\"zerolinecolor\":\"white\",\"zerolinewidth\":2},\"yaxis\":{\"automargin\":true,\"gridcolor\":\"white\",\"linecolor\":\"white\",\"ticks\":\"\",\"title\":{\"standoff\":15},\"zerolinecolor\":\"white\",\"zerolinewidth\":2}}},\"title\":{\"text\":\"Top 20 Airports with Nearby UAS Sightings Recorded through SkyWatch with Standard Format\"},\"xaxis\":{\"anchor\":\"y\",\"domain\":[0.0,1.0],\"title\":{\"text\":\"FAA Airport Identifier\"}},\"yaxis\":{\"anchor\":\"x\",\"domain\":[0.0,1.0],\"title\":{\"text\":\"Count of UAS Sightings Recorded\"}}},                        {\"responsive\": true}                    ).then(function(){\n",
       "                            \n",
       "var gd = document.getElementById('17ac3b24-a952-4444-bbb0-36440052b574');\n",
       "var x = new MutationObserver(function (mutations, observer) {{\n",
       "        var display = window.getComputedStyle(gd).display;\n",
       "        if (!display || display === 'none') {{\n",
       "            console.log([gd, 'removed!']);\n",
       "            Plotly.purge(gd);\n",
       "            observer.disconnect();\n",
       "        }}\n",
       "}});\n",
       "\n",
       "// Listen for the removal of the full notebook cells\n",
       "var notebookContainer = gd.closest('#notebook-container');\n",
       "if (notebookContainer) {{\n",
       "    x.observe(notebookContainer, {childList: true});\n",
       "}}\n",
       "\n",
       "// Listen for the clearing of the current output cell\n",
       "var outputEl = gd.closest('.output');\n",
       "if (outputEl) {{\n",
       "    x.observe(outputEl, {childList: true});\n",
       "}}\n",
       "\n",
       "                        })                };                });            </script>        </div>"
      ]
     },
     "metadata": {},
     "output_type": "display_data"
    }
   ],
   "source": [
    "# Create Plot of Top 20 Airports with UAS Sightings reported through SkyWatch\n",
    "\n",
    "s = uas_airport_df['IDENT'].value_counts()[:20] ## Counts the occurrence of unqiue elements and stores in a variable called \"s\" which is series type\n",
    "new = pd.DataFrame({'IDENT':s.index, 'Count':s.values})  ## Converting series type to pandas df as plotly accepts dataframe as input. The two columns of df is FuncGroup which is being made by index of series and new variable called count which is made by values of series s.\n",
    "\n",
    "fig = px.bar(new, x='IDENT', y='Count', title = 'Top 20 Airports with Nearby UAS Sightings Recorded through SkyWatch with Standard Format')\n",
    "fig.update_layout(\n",
    "    xaxis_title_text='FAA Airport Identifier', # xaxis label\n",
    "    yaxis_title_text='Count of UAS Sightings Recorded') # yaxis label\n",
    "fig.show()"
   ]
  },
  {
   "cell_type": "markdown",
   "metadata": {},
   "source": [
    "### Linking Latitude/Longitude Information to Airport Locations\n",
    "\n",
    "using airports_cleaned.csv"
   ]
  },
  {
   "cell_type": "code",
   "execution_count": 30,
   "metadata": {},
   "outputs": [],
   "source": [
    "airportsC = pd.read_csv('C:/Users/grace/OneDrive/Desktop/GMU/DAEN690/airports_cleaned.csv')"
   ]
  },
  {
   "cell_type": "code",
   "execution_count": 110,
   "metadata": {},
   "outputs": [],
   "source": [
    "# JOIN DATASETS TO HAVE ALL LOCATION INFORMATION FROM REMARK\n",
    "\n",
    "# DATAFRAMES USED:\n",
    "# airportsC = airports_cleaned.csv (the cleaned airports dataset)\n",
    "# uas_airport_df = dataframe of FAA Airport Identifiers found in the 3033 Standard Formats hit on by Regular Expressions\n",
    "# full_loc = dataframe containing the UAS sighting remark from SkyWatch as well as the UAS location information extracted\n",
    "\n",
    "uas_air_loc= pd.merge(uas_airport_df, airportsC, on='IDENT', how='left')\n",
    "full_loc = pd.DataFrame()\n",
    "full_loc['REMARKS'] = remark_uas_loc_nn['REMARKS']\n",
    "full_loc['UAS_LOC'] = remark_uas_loc_nn['UAS Location']\n",
    "\n",
    "final_df1 = pd.concat([full_loc, uas_air_loc], axis = 1) #dataframe with final UAS Location information READY FOR CALCULATIONS\n",
    "                                                            # from the 3,033 records extracted from the Standard Format Remarks"
   ]
  },
  {
   "cell_type": "code",
   "execution_count": 111,
   "metadata": {},
   "outputs": [
    {
     "data": {
      "text/html": [
       "<div>\n",
       "<style scoped>\n",
       "    .dataframe tbody tr th:only-of-type {\n",
       "        vertical-align: middle;\n",
       "    }\n",
       "\n",
       "    .dataframe tbody tr th {\n",
       "        vertical-align: top;\n",
       "    }\n",
       "\n",
       "    .dataframe thead th {\n",
       "        text-align: right;\n",
       "    }\n",
       "</style>\n",
       "<table border=\"1\" class=\"dataframe\">\n",
       "  <thead>\n",
       "    <tr style=\"text-align: right;\">\n",
       "      <th></th>\n",
       "      <th>REMARKS</th>\n",
       "      <th>UAS_LOC</th>\n",
       "      <th>IDENT</th>\n",
       "      <th>NAME</th>\n",
       "      <th>LATITUDE</th>\n",
       "      <th>LONGITUDE</th>\n",
       "      <th>ICAO_ID</th>\n",
       "    </tr>\n",
       "  </thead>\n",
       "  <tbody>\n",
       "    <tr>\n",
       "      <th>0</th>\n",
       "      <td>Aircraft observed alarge orange UAS with flash...</td>\n",
       "      <td>[3 NM NNW of CLE]</td>\n",
       "      <td>CLE</td>\n",
       "      <td>Cleveland-Hopkins Intl</td>\n",
       "      <td>41.409407</td>\n",
       "      <td>-81.854691</td>\n",
       "      <td>KCLE</td>\n",
       "    </tr>\n",
       "    <tr>\n",
       "      <th>1</th>\n",
       "      <td>Aircraft observed a UAS while at 5,000 feet 11...</td>\n",
       "      <td>[11 NM SSE of SLC]</td>\n",
       "      <td>SLC</td>\n",
       "      <td>Salt Lake City Intl</td>\n",
       "      <td>40.788388</td>\n",
       "      <td>-111.977773</td>\n",
       "      <td>KSLC</td>\n",
       "    </tr>\n",
       "    <tr>\n",
       "      <th>2</th>\n",
       "      <td>Aircraft observed a UAS while at 5,000 feet 11...</td>\n",
       "      <td>[11 NM SSE of SLC]</td>\n",
       "      <td>SLC</td>\n",
       "      <td>Salt Lake City Intl</td>\n",
       "      <td>40.788388</td>\n",
       "      <td>-111.977773</td>\n",
       "      <td>KSLC</td>\n",
       "    </tr>\n",
       "    <tr>\n",
       "      <th>3</th>\n",
       "      <td>Aircraft observed a multi-colored UAS off the ...</td>\n",
       "      <td>[7NM E of SAN]</td>\n",
       "      <td>SAN</td>\n",
       "      <td>San Diego Intl</td>\n",
       "      <td>32.733556</td>\n",
       "      <td>-117.189667</td>\n",
       "      <td>KSAN</td>\n",
       "    </tr>\n",
       "    <tr>\n",
       "      <th>4</th>\n",
       "      <td>Aircraft observed a triangular shaped, grey an...</td>\n",
       "      <td>[23NM SW of ORL]</td>\n",
       "      <td>ORL</td>\n",
       "      <td>Exec</td>\n",
       "      <td>28.545462</td>\n",
       "      <td>-81.332930</td>\n",
       "      <td>KORL</td>\n",
       "    </tr>\n",
       "    <tr>\n",
       "      <th>...</th>\n",
       "      <td>...</td>\n",
       "      <td>...</td>\n",
       "      <td>...</td>\n",
       "      <td>...</td>\n",
       "      <td>...</td>\n",
       "      <td>...</td>\n",
       "      <td>...</td>\n",
       "    </tr>\n",
       "    <tr>\n",
       "      <th>3028</th>\n",
       "      <td>Aircraft reported a quad-copter UAS at 12 O'cl...</td>\n",
       "      <td>[10 NM SE of ADS]</td>\n",
       "      <td>ADS</td>\n",
       "      <td>Addison</td>\n",
       "      <td>32.968556</td>\n",
       "      <td>-96.836444</td>\n",
       "      <td>KADS</td>\n",
       "    </tr>\n",
       "    <tr>\n",
       "      <th>3029</th>\n",
       "      <td>Aircraft reported a UAS 3 NM N of MMU while E ...</td>\n",
       "      <td>[3 NM N of MMU]</td>\n",
       "      <td>MMU</td>\n",
       "      <td>Morristown Muni</td>\n",
       "      <td>40.799338</td>\n",
       "      <td>-74.414889</td>\n",
       "      <td>KMMU</td>\n",
       "    </tr>\n",
       "    <tr>\n",
       "      <th>3030</th>\n",
       "      <td>Aircraft reported a UAS sensor hit while N bou...</td>\n",
       "      <td>[21 NM NW of BXK]</td>\n",
       "      <td>BXK</td>\n",
       "      <td>Buckeye Muni</td>\n",
       "      <td>33.420417</td>\n",
       "      <td>-112.686181</td>\n",
       "      <td>KBXK</td>\n",
       "    </tr>\n",
       "    <tr>\n",
       "      <th>3031</th>\n",
       "      <td>From MOR: Aircraft reported a NMAC with a flat...</td>\n",
       "      <td>[5 NM ENE of DRK]</td>\n",
       "      <td>DRK</td>\n",
       "      <td>NaN</td>\n",
       "      <td>NaN</td>\n",
       "      <td>NaN</td>\n",
       "      <td>NaN</td>\n",
       "    </tr>\n",
       "    <tr>\n",
       "      <th>3032</th>\n",
       "      <td>Aircraft reported an unidentified aerial pheno...</td>\n",
       "      <td>[29 NM SW of GCN]</td>\n",
       "      <td>GCN</td>\n",
       "      <td>Grand Canyon Ntl Park</td>\n",
       "      <td>35.952361</td>\n",
       "      <td>-112.146972</td>\n",
       "      <td>KGCN</td>\n",
       "    </tr>\n",
       "  </tbody>\n",
       "</table>\n",
       "<p>3033 rows × 7 columns</p>\n",
       "</div>"
      ],
      "text/plain": [
       "                                                REMARKS             UAS_LOC  \\\n",
       "0     Aircraft observed alarge orange UAS with flash...   [3 NM NNW of CLE]   \n",
       "1     Aircraft observed a UAS while at 5,000 feet 11...  [11 NM SSE of SLC]   \n",
       "2     Aircraft observed a UAS while at 5,000 feet 11...  [11 NM SSE of SLC]   \n",
       "3     Aircraft observed a multi-colored UAS off the ...      [7NM E of SAN]   \n",
       "4     Aircraft observed a triangular shaped, grey an...    [23NM SW of ORL]   \n",
       "...                                                 ...                 ...   \n",
       "3028  Aircraft reported a quad-copter UAS at 12 O'cl...   [10 NM SE of ADS]   \n",
       "3029  Aircraft reported a UAS 3 NM N of MMU while E ...     [3 NM N of MMU]   \n",
       "3030  Aircraft reported a UAS sensor hit while N bou...   [21 NM NW of BXK]   \n",
       "3031  From MOR: Aircraft reported a NMAC with a flat...   [5 NM ENE of DRK]   \n",
       "3032  Aircraft reported an unidentified aerial pheno...   [29 NM SW of GCN]   \n",
       "\n",
       "     IDENT                    NAME   LATITUDE   LONGITUDE ICAO_ID  \n",
       "0      CLE  Cleveland-Hopkins Intl  41.409407  -81.854691    KCLE  \n",
       "1      SLC     Salt Lake City Intl  40.788388 -111.977773    KSLC  \n",
       "2      SLC     Salt Lake City Intl  40.788388 -111.977773    KSLC  \n",
       "3      SAN          San Diego Intl  32.733556 -117.189667    KSAN  \n",
       "4      ORL                    Exec  28.545462  -81.332930    KORL  \n",
       "...    ...                     ...        ...         ...     ...  \n",
       "3028   ADS                 Addison  32.968556  -96.836444    KADS  \n",
       "3029   MMU         Morristown Muni  40.799338  -74.414889    KMMU  \n",
       "3030   BXK            Buckeye Muni  33.420417 -112.686181    KBXK  \n",
       "3031   DRK                     NaN        NaN         NaN     NaN  \n",
       "3032   GCN   Grand Canyon Ntl Park  35.952361 -112.146972    KGCN  \n",
       "\n",
       "[3033 rows x 7 columns]"
      ]
     },
     "execution_count": 111,
     "metadata": {},
     "output_type": "execute_result"
    }
   ],
   "source": [
    "final_df1"
   ]
  },
  {
   "cell_type": "code",
   "execution_count": 112,
   "metadata": {},
   "outputs": [],
   "source": [
    "# Export to .csv file\n",
    "final_df1.to_csv('std_format_uas_loc.csv', index = False)"
   ]
  },
  {
   "cell_type": "markdown",
   "metadata": {},
   "source": [
    "### Extracting Airport Identifier Information WITH NER\n",
    "\n",
    "https://towardsdatascience.com/named-entity-recognition-ner-using-spacy-nlp-part-4-28da2ece57c6"
   ]
  },
  {
   "cell_type": "code",
   "execution_count": 22,
   "metadata": {},
   "outputs": [],
   "source": [
    "# Import Airports dataset\n",
    "airports = pd.read_csv('C:/Users/grace/OneDrive/Desktop/GMU/DAEN690/airports_cleaned.csv')"
   ]
  },
  {
   "cell_type": "code",
   "execution_count": 23,
   "metadata": {},
   "outputs": [],
   "source": [
    "# remarks_with_IDENT = []\n",
    "# remarks_sans_IDENT = []\n",
    "\n",
    "# faa_ident = airports['IDENT']\n",
    "# remarks = faa_standard['REMARKS']\n",
    "\n",
    "# for i in range(len(remarks)):\n",
    "#     for k in range(len(faa_ident)):\n",
    "#         if faa_ident[k] in remarks[i]:\n",
    "#                remarks_with_IDENT.append(remarks[i])\n",
    "#                remarks_with_IDENT.append(faa_ident[k])"
   ]
  },
  {
   "cell_type": "code",
   "execution_count": 24,
   "metadata": {},
   "outputs": [
    {
     "name": "stdout",
     "output_type": "stream",
     "text": [
      "UAS ORG\n",
      "1 CARDINAL\n",
      "and400 feet QUANTITY\n",
      "1,000 feet QUANTITY\n",
      "3 CARDINAL\n",
      "CLE ORG\n",
      "Cleveland GPE\n",
      "216 CARDINAL\n"
     ]
    }
   ],
   "source": [
    "remark1 = nlp(faa_standard['REMARKS'][0])\n",
    "\n",
    "for ent in remark1.ents:\n",
    "    print(ent.text, ent.label_)"
   ]
  },
  {
   "cell_type": "code",
   "execution_count": 25,
   "metadata": {},
   "outputs": [
    {
     "data": {
      "text/plain": [
       "'Aircraft observed alarge orange UAS with flashing lights 1 NM off the right side and400 feet below while at 1,000 feet 3 NM NNW of CLE. No evasive action was taken. Cleveland PD notified at 216-265-6055. '"
      ]
     },
     "execution_count": 25,
     "metadata": {},
     "output_type": "execute_result"
    }
   ],
   "source": [
    "faa_standard['REMARKS'][0]"
   ]
  },
  {
   "cell_type": "code",
   "execution_count": 26,
   "metadata": {
    "scrolled": true
   },
   "outputs": [
    {
     "name": "stdout",
     "output_type": "stream",
     "text": [
      "UAS ORG\n",
      "5,000 feet QUANTITY\n",
      "11 CARDINAL\n",
      "NM SSE ORG\n",
      "SLC ORG\n"
     ]
    }
   ],
   "source": [
    "remark2 = nlp(faa_standard['REMARKS'][1])\n",
    "\n",
    "for ent in remark2.ents:\n",
    "    print(ent.text, ent.label_)"
   ]
  },
  {
   "cell_type": "code",
   "execution_count": 27,
   "metadata": {},
   "outputs": [
    {
     "data": {
      "text/plain": [
       "'Aircraft observed a UAS while at 5,000 feet 11 NM SSE of SLC. No evasive action was taken.'"
      ]
     },
     "execution_count": 27,
     "metadata": {},
     "output_type": "execute_result"
    }
   ],
   "source": [
    "faa_standard['REMARKS'][1]"
   ]
  }
 ],
 "metadata": {
  "kernelspec": {
   "display_name": "Python 3",
   "language": "python",
   "name": "python3"
  },
  "language_info": {
   "codemirror_mode": {
    "name": "ipython",
    "version": 3
   },
   "file_extension": ".py",
   "mimetype": "text/x-python",
   "name": "python",
   "nbconvert_exporter": "python",
   "pygments_lexer": "ipython3",
   "version": "3.8.3"
  }
 },
 "nbformat": 4,
 "nbformat_minor": 4
}
