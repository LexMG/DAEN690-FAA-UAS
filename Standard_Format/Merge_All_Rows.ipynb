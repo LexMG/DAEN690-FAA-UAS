{
 "cells": [
  {
   "cell_type": "code",
   "execution_count": 2,
   "metadata": {},
   "outputs": [],
   "source": [
    "import pandas as pd\n",
    "import numpy as np"
   ]
  },
  {
   "cell_type": "code",
   "execution_count": 41,
   "metadata": {},
   "outputs": [],
   "source": [
    "complete = pd.read_csv('C:/Users/grace/OneDrive/Desktop/GMU/DAEN690/complete_std_UAS_4093.csv')\n",
    "#complete"
   ]
  },
  {
   "cell_type": "code",
   "execution_count": 7,
   "metadata": {},
   "outputs": [],
   "source": [
    "air38 = pd.read_csv('C:/Users/grace/OneDrive/Desktop/GMU/DAEN690/air38OF501_EXCEPTIONS.csv')\n",
    "#air38"
   ]
  },
  {
   "cell_type": "code",
   "execution_count": 40,
   "metadata": {
    "scrolled": true
   },
   "outputs": [],
   "source": [
    "air14 = pd.read_csv('C:/Users/grace/OneDrive/Desktop/GMU/DAEN690/airports245_nomatch14.csv')\n",
    "#air14"
   ]
  },
  {
   "cell_type": "code",
   "execution_count": 44,
   "metadata": {},
   "outputs": [],
   "source": [
    "dp1a = pd.read_csv('C:/Users/grace/OneDrive/Desktop/GMU/DAEN690/dp1OF471_EXCEPTIONS.csv')\n",
    "#dp1a"
   ]
  },
  {
   "cell_type": "code",
   "execution_count": 45,
   "metadata": {},
   "outputs": [],
   "source": [
    "dp1b = pd.read_csv('C:/Users/grace/OneDrive/Desktop/GMU/DAEN690/dp1OF501_EXCEPTIONS.csv')\n",
    "#dp1b"
   ]
  },
  {
   "cell_type": "code",
   "execution_count": 54,
   "metadata": {},
   "outputs": [],
   "source": [
    "rwy2 = pd.read_csv('C:/Users/grace/OneDrive/Desktop/GMU/DAEN690/rwy2OF302_EXCEPTIONS.csv')\n",
    "#rwy2"
   ]
  },
  {
   "cell_type": "code",
   "execution_count": 39,
   "metadata": {},
   "outputs": [],
   "source": [
    "incidents501 = pd.read_csv('C:/Users/grace/OneDrive/Desktop/GMU/DAEN690/Grace_All_Points_Standard_501OUTOF1072.csv')\n",
    "#incidents501"
   ]
  },
  {
   "cell_type": "code",
   "execution_count": 33,
   "metadata": {},
   "outputs": [],
   "source": [
    "incidents471 = pd.read_csv('C:/Users/grace/OneDrive/Desktop/GMU/DAEN690/Grace_All_Points_Standard_471OUTOF1543.csv')\n",
    "#incidents471"
   ]
  },
  {
   "cell_type": "code",
   "execution_count": 34,
   "metadata": {
    "scrolled": true
   },
   "outputs": [],
   "source": [
    "incidents5167 = pd.read_csv('C:/Users/grace/OneDrive/Desktop/GMU/DAEN690/Incidents_Cleaned_Standard_NoDuplicates.csv')\n",
    "#incidents5167"
   ]
  },
  {
   "cell_type": "code",
   "execution_count": 52,
   "metadata": {
    "scrolled": true
   },
   "outputs": [],
   "source": [
    "incidents302 = pd.read_csv('C:/Users/grace/OneDrive/Desktop/GMU/DAEN690/Grace_All_Points_rwy302_allrows.csv')\n",
    "#incidents302"
   ]
  },
  {
   "cell_type": "code",
   "execution_count": 55,
   "metadata": {
    "scrolled": true
   },
   "outputs": [
    {
     "data": {
      "text/html": [
       "<div>\n",
       "<style scoped>\n",
       "    .dataframe tbody tr th:only-of-type {\n",
       "        vertical-align: middle;\n",
       "    }\n",
       "\n",
       "    .dataframe tbody tr th {\n",
       "        vertical-align: top;\n",
       "    }\n",
       "\n",
       "    .dataframe thead th {\n",
       "        text-align: right;\n",
       "    }\n",
       "</style>\n",
       "<table border=\"1\" class=\"dataframe\">\n",
       "  <thead>\n",
       "    <tr style=\"text-align: right;\">\n",
       "      <th></th>\n",
       "      <th>REMARKS</th>\n",
       "      <th>UASLOCATION_x</th>\n",
       "      <th>IDENT_x</th>\n",
       "      <th>RWYLOCATION_x</th>\n",
       "      <th>Distance_NM_x</th>\n",
       "      <th>UASLOCATION_y</th>\n",
       "      <th>IDENT_y</th>\n",
       "      <th>RWYLOCATION_y</th>\n",
       "      <th>Distance_NM_y</th>\n",
       "      <th>RWYDESIGNATOR</th>\n",
       "      <th>...</th>\n",
       "      <th>UASFORMATION.CEDAR</th>\n",
       "      <th>CLOSESTPROXIMITY.CEDAR</th>\n",
       "      <th>UASWEIGHTGT55.CEDAR</th>\n",
       "      <th>UASDIM.CEDAR</th>\n",
       "      <th>UASFWROTOR.CEDAR</th>\n",
       "      <th>PILOTREPORTEDNMAC.CEDAR</th>\n",
       "      <th>TCASRA.CEDAR</th>\n",
       "      <th>SUMMARY.CEDAR</th>\n",
       "      <th>QAFINDINGS.CEDAR</th>\n",
       "      <th>DATASET</th>\n",
       "    </tr>\n",
       "  </thead>\n",
       "  <tbody>\n",
       "    <tr>\n",
       "      <th>0</th>\n",
       "      <td>Aircraft observed a quad copter uas off the ri...</td>\n",
       "      <td>.25 NM N of APA</td>\n",
       "      <td>APA</td>\n",
       "      <td>NaN</td>\n",
       "      <td>0.25</td>\n",
       "      <td>NaN</td>\n",
       "      <td>NaN</td>\n",
       "      <td>NaN</td>\n",
       "      <td>NaN</td>\n",
       "      <td>NaN</td>\n",
       "      <td>...</td>\n",
       "      <td>NaN</td>\n",
       "      <td>NaN</td>\n",
       "      <td>NaN</td>\n",
       "      <td>NaN</td>\n",
       "      <td>NaN</td>\n",
       "      <td>NaN</td>\n",
       "      <td>NaN</td>\n",
       "      <td>NaN</td>\n",
       "      <td>NaN</td>\n",
       "      <td>AIRPORT</td>\n",
       "    </tr>\n",
       "    <tr>\n",
       "      <th>1</th>\n",
       "      <td>Aircraft observed a white uas while S bound at...</td>\n",
       "      <td>1 NM N of M01</td>\n",
       "      <td>M01</td>\n",
       "      <td>RWY 18</td>\n",
       "      <td>1.00</td>\n",
       "      <td>NaN</td>\n",
       "      <td>NaN</td>\n",
       "      <td>NaN</td>\n",
       "      <td>NaN</td>\n",
       "      <td>NaN</td>\n",
       "      <td>...</td>\n",
       "      <td>NaN</td>\n",
       "      <td>NaN</td>\n",
       "      <td>NaN</td>\n",
       "      <td>NaN</td>\n",
       "      <td>NaN</td>\n",
       "      <td>NaN</td>\n",
       "      <td>NaN</td>\n",
       "      <td>NaN</td>\n",
       "      <td>NaN</td>\n",
       "      <td>RUNWAY</td>\n",
       "    </tr>\n",
       "  </tbody>\n",
       "</table>\n",
       "<p>2 rows × 57 columns</p>\n",
       "</div>"
      ],
      "text/plain": [
       "                                             REMARKS    UASLOCATION_x IDENT_x  \\\n",
       "0  Aircraft observed a quad copter uas off the ri...  .25 NM N of APA     APA   \n",
       "1  Aircraft observed a white uas while S bound at...    1 NM N of M01     M01   \n",
       "\n",
       "  RWYLOCATION_x  Distance_NM_x  UASLOCATION_y  IDENT_y  RWYLOCATION_y  \\\n",
       "0           NaN           0.25            NaN      NaN            NaN   \n",
       "1        RWY 18           1.00            NaN      NaN            NaN   \n",
       "\n",
       "   Distance_NM_y  RWYDESIGNATOR  ...  UASFORMATION.CEDAR  \\\n",
       "0            NaN            NaN  ...                 NaN   \n",
       "1            NaN            NaN  ...                 NaN   \n",
       "\n",
       "   CLOSESTPROXIMITY.CEDAR  UASWEIGHTGT55.CEDAR  UASDIM.CEDAR  \\\n",
       "0                     NaN                  NaN           NaN   \n",
       "1                     NaN                  NaN           NaN   \n",
       "\n",
       "   UASFWROTOR.CEDAR  PILOTREPORTEDNMAC.CEDAR  TCASRA.CEDAR SUMMARY.CEDAR  \\\n",
       "0               NaN                      NaN           NaN           NaN   \n",
       "1               NaN                      NaN           NaN           NaN   \n",
       "\n",
       "   QAFINDINGS.CEDAR  DATASET  \n",
       "0               NaN  AIRPORT  \n",
       "1               NaN   RUNWAY  \n",
       "\n",
       "[2 rows x 57 columns]"
      ]
     },
     "execution_count": 55,
     "metadata": {},
     "output_type": "execute_result"
    }
   ],
   "source": [
    "allrows = pd.merge(rwy2, incidents302, how = 'left', on = 'REMARKS')\n",
    "allrows"
   ]
  },
  {
   "cell_type": "code",
   "execution_count": 56,
   "metadata": {},
   "outputs": [],
   "source": [
    "# Export to .csv file\n",
    "allrows.to_csv('rwy2OF302_EXCEPTIONS_allrows.csv', index = False)"
   ]
  },
  {
   "cell_type": "code",
   "execution_count": 26,
   "metadata": {},
   "outputs": [
    {
     "data": {
      "text/plain": [
       "'Aircraft observed a uas at 1,500 whileW bound at2,000 feet17 NMNE of FAK. No evasive action was taken.Louisa County Sheriffnotified at 434-589-3007.'"
      ]
     },
     "execution_count": 26,
     "metadata": {},
     "output_type": "execute_result"
    }
   ],
   "source": [
    "air14['REMARKS'][0]"
   ]
  },
  {
   "cell_type": "code",
   "execution_count": 25,
   "metadata": {},
   "outputs": [
    {
     "data": {
      "text/plain": [
       "'Aircraft observed alarge orange UAS with flashing lights 1 NM off the right side and400 feet below while at 1,000 feet 3 NM NNW of CLE. No evasive action was taken. Cleveland PD notified at 216-265-6055. '"
      ]
     },
     "execution_count": 25,
     "metadata": {},
     "output_type": "execute_result"
    }
   ],
   "source": [
    "incidents['REMARKS'][0]"
   ]
  },
  {
   "cell_type": "code",
   "execution_count": null,
   "metadata": {},
   "outputs": [],
   "source": []
  }
 ],
 "metadata": {
  "kernelspec": {
   "display_name": "Python 3",
   "language": "python",
   "name": "python3"
  },
  "language_info": {
   "codemirror_mode": {
    "name": "ipython",
    "version": 3
   },
   "file_extension": ".py",
   "mimetype": "text/x-python",
   "name": "python",
   "nbconvert_exporter": "python",
   "pygments_lexer": "ipython3",
   "version": "3.8.3"
  }
 },
 "nbformat": 4,
 "nbformat_minor": 4
}
