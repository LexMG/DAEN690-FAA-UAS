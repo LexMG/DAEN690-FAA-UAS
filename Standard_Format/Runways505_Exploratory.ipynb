{
 "cells": [
  {
   "cell_type": "markdown",
   "metadata": {},
   "source": [
    "# Exploring the 505 Runways that do NOT contain all information\n",
    "***\n",
    "***DAEN690***\n",
    "\n",
    "***George Mason University***\n",
    "\n",
    "***Author:*** Grace Cox (Team LEGO)\n",
    "\n",
    "***Date:*** October 26, 2021\n",
    "\n",
    "***\n",
    "These 505 records referencing Runways come from the 599 runway records within the 2142 unknown records of Standard Format Remarks."
   ]
  },
  {
   "cell_type": "markdown",
   "metadata": {},
   "source": [
    "## Import Statements"
   ]
  },
  {
   "cell_type": "code",
   "execution_count": 1,
   "metadata": {},
   "outputs": [],
   "source": [
    "# Import Statements\n",
    "import pandas as pd\n",
    "import numpy as np\n",
    "import matplotlib.pyplot as plt\n",
    "import plotly.express as px\n",
    "from plotly.subplots import make_subplots\n",
    "import plotly.graph_objects as go\n",
    "import chart_studio.plotly as py\n",
    "import re\n",
    "import geopy\n",
    "from geopy.distance import geodesic\n",
    "\n",
    "from IPython.display import display, HTML"
   ]
  },
  {
   "cell_type": "markdown",
   "metadata": {},
   "source": [
    "## Read in Files\n",
    "\n",
    "1. Dataset containing 599 records referencing runways\n",
    "2. Dataset containing 94 records referencing runways with ALL relevant information included"
   ]
  },
  {
   "cell_type": "code",
   "execution_count": 2,
   "metadata": {},
   "outputs": [],
   "source": [
    "# Read in the dataset containing all 599 runway reference remarks (NOT hit on by initial regex)\n",
    "rwy599 = pd.read_csv('C:/Users/grace/OneDrive/Desktop/GMU/DAEN690/std_rwyComplete_599.csv')"
   ]
  },
  {
   "cell_type": "code",
   "execution_count": 3,
   "metadata": {},
   "outputs": [
    {
     "data": {
      "text/html": [
       "<div>\n",
       "<style scoped>\n",
       "    .dataframe tbody tr th:only-of-type {\n",
       "        vertical-align: middle;\n",
       "    }\n",
       "\n",
       "    .dataframe tbody tr th {\n",
       "        vertical-align: top;\n",
       "    }\n",
       "\n",
       "    .dataframe thead th {\n",
       "        text-align: right;\n",
       "    }\n",
       "</style>\n",
       "<table border=\"1\" class=\"dataframe\">\n",
       "  <thead>\n",
       "    <tr style=\"text-align: right;\">\n",
       "      <th></th>\n",
       "      <th>REMARKS</th>\n",
       "      <th>UAS_Location_Runways</th>\n",
       "    </tr>\n",
       "  </thead>\n",
       "  <tbody>\n",
       "    <tr>\n",
       "      <th>0</th>\n",
       "      <td>(Via MOR) Aircraft observed a white UAS off th...</td>\n",
       "      <td>['RWY 7']</td>\n",
       "    </tr>\n",
       "    <tr>\n",
       "      <th>1</th>\n",
       "      <td>(via MOR) Aircraft observed a red UAS while W ...</td>\n",
       "      <td>['RWY 27R']</td>\n",
       "    </tr>\n",
       "    <tr>\n",
       "      <th>2</th>\n",
       "      <td>1836 Aircraft observed a UAS off the right sid...</td>\n",
       "      <td>['RWY 10L', 'RWY 10R']</td>\n",
       "    </tr>\n",
       "    <tr>\n",
       "      <th>3</th>\n",
       "      <td>Aircraft observed a  silver quadcopter UAS fro...</td>\n",
       "      <td>['RWY 17R']</td>\n",
       "    </tr>\n",
       "    <tr>\n",
       "      <th>4</th>\n",
       "      <td>Aircraft observed a 1 foot wide UAS at 175 fee...</td>\n",
       "      <td>['RWY9L']</td>\n",
       "    </tr>\n",
       "    <tr>\n",
       "      <th>...</th>\n",
       "      <td>...</td>\n",
       "      <td>...</td>\n",
       "    </tr>\n",
       "    <tr>\n",
       "      <th>594</th>\n",
       "      <td>Military helicopter - G20326/H60 - Salem, OR (...</td>\n",
       "      <td>['RWY 31']</td>\n",
       "    </tr>\n",
       "    <tr>\n",
       "      <th>595</th>\n",
       "      <td>MultipleAircraft reported an unauthorized UAS ...</td>\n",
       "      <td>['RWY28R']</td>\n",
       "    </tr>\n",
       "    <tr>\n",
       "      <th>596</th>\n",
       "      <td>Received MOR via email: Aircraft observed a UA...</td>\n",
       "      <td>['RWY 31']</td>\n",
       "    </tr>\n",
       "    <tr>\n",
       "      <th>597</th>\n",
       "      <td>VFR Aircraft observed a UAS off the left side ...</td>\n",
       "      <td>['RWY35']</td>\n",
       "    </tr>\n",
       "    <tr>\n",
       "      <th>598</th>\n",
       "      <td>VFR Aircraft reported a near mid-air with a UA...</td>\n",
       "      <td>['RWY 28R']</td>\n",
       "    </tr>\n",
       "  </tbody>\n",
       "</table>\n",
       "<p>599 rows × 2 columns</p>\n",
       "</div>"
      ],
      "text/plain": [
       "                                               REMARKS    UAS_Location_Runways\n",
       "0    (Via MOR) Aircraft observed a white UAS off th...               ['RWY 7']\n",
       "1    (via MOR) Aircraft observed a red UAS while W ...             ['RWY 27R']\n",
       "2    1836 Aircraft observed a UAS off the right sid...  ['RWY 10L', 'RWY 10R']\n",
       "3    Aircraft observed a  silver quadcopter UAS fro...             ['RWY 17R']\n",
       "4    Aircraft observed a 1 foot wide UAS at 175 fee...               ['RWY9L']\n",
       "..                                                 ...                     ...\n",
       "594  Military helicopter - G20326/H60 - Salem, OR (...              ['RWY 31']\n",
       "595  MultipleAircraft reported an unauthorized UAS ...              ['RWY28R']\n",
       "596  Received MOR via email: Aircraft observed a UA...              ['RWY 31']\n",
       "597  VFR Aircraft observed a UAS off the left side ...               ['RWY35']\n",
       "598  VFR Aircraft reported a near mid-air with a UA...             ['RWY 28R']\n",
       "\n",
       "[599 rows x 2 columns]"
      ]
     },
     "execution_count": 3,
     "metadata": {},
     "output_type": "execute_result"
    }
   ],
   "source": [
    "rwy599"
   ]
  },
  {
   "cell_type": "code",
   "execution_count": 4,
   "metadata": {},
   "outputs": [],
   "source": [
    "# Read in the dataset containing all 94 runway reference remarks containing ALL necessary information (NOT hit on by initial regex)\n",
    "rwy94 = pd.read_csv('C:/Users/grace/OneDrive/Desktop/GMU/DAEN690/other2142_runways94_UAS_latlong.csv')"
   ]
  },
  {
   "cell_type": "code",
   "execution_count": 5,
   "metadata": {},
   "outputs": [
    {
     "ename": "KeyError",
     "evalue": "\"['UAS_Location_Runways'] not in index\"",
     "output_type": "error",
     "traceback": [
      "\u001b[1;31m---------------------------------------------------------------------------\u001b[0m",
      "\u001b[1;31mKeyError\u001b[0m                                  Traceback (most recent call last)",
      "\u001b[1;32m<ipython-input-5-08d227fb3158>\u001b[0m in \u001b[0;36m<module>\u001b[1;34m\u001b[0m\n\u001b[1;32m----> 1\u001b[1;33m \u001b[0mrwy94\u001b[0m \u001b[1;33m=\u001b[0m \u001b[0mrwy94\u001b[0m\u001b[1;33m[\u001b[0m\u001b[1;33m[\u001b[0m\u001b[1;34m'REMARKS'\u001b[0m\u001b[1;33m,\u001b[0m \u001b[1;34m'UAS_Location_Runways'\u001b[0m\u001b[1;33m]\u001b[0m\u001b[1;33m]\u001b[0m\u001b[1;33m\u001b[0m\u001b[1;33m\u001b[0m\u001b[0m\n\u001b[0m\u001b[0;32m      2\u001b[0m \u001b[0mrwy94\u001b[0m\u001b[1;33m\u001b[0m\u001b[1;33m\u001b[0m\u001b[0m\n",
      "\u001b[1;32m~\\anaconda3\\lib\\site-packages\\pandas\\core\\frame.py\u001b[0m in \u001b[0;36m__getitem__\u001b[1;34m(self, key)\u001b[0m\n\u001b[0;32m   2804\u001b[0m             \u001b[1;32mif\u001b[0m \u001b[0mis_iterator\u001b[0m\u001b[1;33m(\u001b[0m\u001b[0mkey\u001b[0m\u001b[1;33m)\u001b[0m\u001b[1;33m:\u001b[0m\u001b[1;33m\u001b[0m\u001b[1;33m\u001b[0m\u001b[0m\n\u001b[0;32m   2805\u001b[0m                 \u001b[0mkey\u001b[0m \u001b[1;33m=\u001b[0m \u001b[0mlist\u001b[0m\u001b[1;33m(\u001b[0m\u001b[0mkey\u001b[0m\u001b[1;33m)\u001b[0m\u001b[1;33m\u001b[0m\u001b[1;33m\u001b[0m\u001b[0m\n\u001b[1;32m-> 2806\u001b[1;33m             \u001b[0mindexer\u001b[0m \u001b[1;33m=\u001b[0m \u001b[0mself\u001b[0m\u001b[1;33m.\u001b[0m\u001b[0mloc\u001b[0m\u001b[1;33m.\u001b[0m\u001b[0m_get_listlike_indexer\u001b[0m\u001b[1;33m(\u001b[0m\u001b[0mkey\u001b[0m\u001b[1;33m,\u001b[0m \u001b[0maxis\u001b[0m\u001b[1;33m=\u001b[0m\u001b[1;36m1\u001b[0m\u001b[1;33m,\u001b[0m \u001b[0mraise_missing\u001b[0m\u001b[1;33m=\u001b[0m\u001b[1;32mTrue\u001b[0m\u001b[1;33m)\u001b[0m\u001b[1;33m[\u001b[0m\u001b[1;36m1\u001b[0m\u001b[1;33m]\u001b[0m\u001b[1;33m\u001b[0m\u001b[1;33m\u001b[0m\u001b[0m\n\u001b[0m\u001b[0;32m   2807\u001b[0m \u001b[1;33m\u001b[0m\u001b[0m\n\u001b[0;32m   2808\u001b[0m         \u001b[1;31m# take() does not accept boolean indexers\u001b[0m\u001b[1;33m\u001b[0m\u001b[1;33m\u001b[0m\u001b[1;33m\u001b[0m\u001b[0m\n",
      "\u001b[1;32m~\\anaconda3\\lib\\site-packages\\pandas\\core\\indexing.py\u001b[0m in \u001b[0;36m_get_listlike_indexer\u001b[1;34m(self, key, axis, raise_missing)\u001b[0m\n\u001b[0;32m   1550\u001b[0m             \u001b[0mkeyarr\u001b[0m\u001b[1;33m,\u001b[0m \u001b[0mindexer\u001b[0m\u001b[1;33m,\u001b[0m \u001b[0mnew_indexer\u001b[0m \u001b[1;33m=\u001b[0m \u001b[0max\u001b[0m\u001b[1;33m.\u001b[0m\u001b[0m_reindex_non_unique\u001b[0m\u001b[1;33m(\u001b[0m\u001b[0mkeyarr\u001b[0m\u001b[1;33m)\u001b[0m\u001b[1;33m\u001b[0m\u001b[1;33m\u001b[0m\u001b[0m\n\u001b[0;32m   1551\u001b[0m \u001b[1;33m\u001b[0m\u001b[0m\n\u001b[1;32m-> 1552\u001b[1;33m         self._validate_read_indexer(\n\u001b[0m\u001b[0;32m   1553\u001b[0m             \u001b[0mkeyarr\u001b[0m\u001b[1;33m,\u001b[0m \u001b[0mindexer\u001b[0m\u001b[1;33m,\u001b[0m \u001b[0mo\u001b[0m\u001b[1;33m.\u001b[0m\u001b[0m_get_axis_number\u001b[0m\u001b[1;33m(\u001b[0m\u001b[0maxis\u001b[0m\u001b[1;33m)\u001b[0m\u001b[1;33m,\u001b[0m \u001b[0mraise_missing\u001b[0m\u001b[1;33m=\u001b[0m\u001b[0mraise_missing\u001b[0m\u001b[1;33m\u001b[0m\u001b[1;33m\u001b[0m\u001b[0m\n\u001b[0;32m   1554\u001b[0m         )\n",
      "\u001b[1;32m~\\anaconda3\\lib\\site-packages\\pandas\\core\\indexing.py\u001b[0m in \u001b[0;36m_validate_read_indexer\u001b[1;34m(self, key, indexer, axis, raise_missing)\u001b[0m\n\u001b[0;32m   1644\u001b[0m             \u001b[1;32mif\u001b[0m \u001b[1;32mnot\u001b[0m \u001b[1;33m(\u001b[0m\u001b[0mself\u001b[0m\u001b[1;33m.\u001b[0m\u001b[0mname\u001b[0m \u001b[1;33m==\u001b[0m \u001b[1;34m\"loc\"\u001b[0m \u001b[1;32mand\u001b[0m \u001b[1;32mnot\u001b[0m \u001b[0mraise_missing\u001b[0m\u001b[1;33m)\u001b[0m\u001b[1;33m:\u001b[0m\u001b[1;33m\u001b[0m\u001b[1;33m\u001b[0m\u001b[0m\n\u001b[0;32m   1645\u001b[0m                 \u001b[0mnot_found\u001b[0m \u001b[1;33m=\u001b[0m \u001b[0mlist\u001b[0m\u001b[1;33m(\u001b[0m\u001b[0mset\u001b[0m\u001b[1;33m(\u001b[0m\u001b[0mkey\u001b[0m\u001b[1;33m)\u001b[0m \u001b[1;33m-\u001b[0m \u001b[0mset\u001b[0m\u001b[1;33m(\u001b[0m\u001b[0max\u001b[0m\u001b[1;33m)\u001b[0m\u001b[1;33m)\u001b[0m\u001b[1;33m\u001b[0m\u001b[1;33m\u001b[0m\u001b[0m\n\u001b[1;32m-> 1646\u001b[1;33m                 \u001b[1;32mraise\u001b[0m \u001b[0mKeyError\u001b[0m\u001b[1;33m(\u001b[0m\u001b[1;34mf\"{not_found} not in index\"\u001b[0m\u001b[1;33m)\u001b[0m\u001b[1;33m\u001b[0m\u001b[1;33m\u001b[0m\u001b[0m\n\u001b[0m\u001b[0;32m   1647\u001b[0m \u001b[1;33m\u001b[0m\u001b[0m\n\u001b[0;32m   1648\u001b[0m             \u001b[1;31m# we skip the warning on Categorical/Interval\u001b[0m\u001b[1;33m\u001b[0m\u001b[1;33m\u001b[0m\u001b[1;33m\u001b[0m\u001b[0m\n",
      "\u001b[1;31mKeyError\u001b[0m: \"['UAS_Location_Runways'] not in index\""
     ]
    }
   ],
   "source": [
    "rwy94 = rwy94[['REMARKS', 'UAS_Location_Runways']]\n",
    "rwy94"
   ]
  },
  {
   "cell_type": "markdown",
   "metadata": {},
   "source": [
    "#### Obtain dataframe containing only 505 records referencing Runways that are still 'To Be Explored'"
   ]
  },
  {
   "cell_type": "code",
   "execution_count": null,
   "metadata": {},
   "outputs": [],
   "source": [
    "rwy510 = rwy599[~rwy599['REMARKS'].isin(rwy94['REMARKS'])].dropna().drop_duplicates(subset=['REMARKS'])"
   ]
  },
  {
   "cell_type": "code",
   "execution_count": null,
   "metadata": {},
   "outputs": [],
   "source": [
    "rwy510"
   ]
  },
  {
   "cell_type": "code",
   "execution_count": null,
   "metadata": {},
   "outputs": [],
   "source": [
    "# Export final new_df to .csv \n",
    "rwy510.to_csv('rwy510.csv', index = False)"
   ]
  },
  {
   "cell_type": "markdown",
   "metadata": {},
   "source": [
    "#### Import Output_All_Points.csv file from Lex and Merge with dataframe containing 509 runway records"
   ]
  },
  {
   "cell_type": "code",
   "execution_count": null,
   "metadata": {},
   "outputs": [],
   "source": [
    "output_all_points = pd.read_csv('C:/Users/grace/OneDrive/Desktop/GMU/DAEN690/Output_All_Points.csv',encoding='cp1252')"
   ]
  },
  {
   "cell_type": "code",
   "execution_count": null,
   "metadata": {},
   "outputs": [],
   "source": [
    "rwy510_linked = pd.merge(rwy510, output_all_points, on = 'REMARKS', how = 'left')"
   ]
  },
  {
   "cell_type": "code",
   "execution_count": null,
   "metadata": {},
   "outputs": [],
   "source": [
    "rwy510_linked = rwy510_linked[['REMARKS', 'UAS_Location_Runways', 'REPORTINGFACILITY', 'UASLOCATION', 'RWYLOCATION']]"
   ]
  },
  {
   "cell_type": "code",
   "execution_count": null,
   "metadata": {},
   "outputs": [],
   "source": [
    "rwy510_linked"
   ]
  },
  {
   "cell_type": "code",
   "execution_count": null,
   "metadata": {},
   "outputs": [],
   "source": [
    "# Export final new_df to .csv \n",
    "rwy510_linked.to_csv('rwy510_linked.csv', index = False)"
   ]
  },
  {
   "cell_type": "markdown",
   "metadata": {},
   "source": [
    "#### Explore records of the 510 referencing runways that also have a valid REPORTINGFACILITY and UAS_Location_Runways"
   ]
  },
  {
   "cell_type": "code",
   "execution_count": null,
   "metadata": {},
   "outputs": [],
   "source": [
    "rwy510_noNull = rwy510_linked.dropna().reset_index()"
   ]
  },
  {
   "cell_type": "code",
   "execution_count": null,
   "metadata": {
    "scrolled": true
   },
   "outputs": [],
   "source": [
    "rwy510_noNull"
   ]
  },
  {
   "cell_type": "code",
   "execution_count": null,
   "metadata": {},
   "outputs": [],
   "source": [
    "# Export final new_df to .csv \n",
    "rwy510_noNull.to_csv('rwy118_one.csv', index = False)"
   ]
  },
  {
   "cell_type": "code",
   "execution_count": null,
   "metadata": {},
   "outputs": [],
   "source": [
    "# Create List that contains each Standard Remark, and the Heading/Direction\n",
    "# information contained in each remark\n",
    "\n",
    "remark_uas_loc = []\n",
    "remarks = rwy510_noNull['REMARKS']\n",
    "\n",
    "# regular expression for any heading/direction\n",
    "headir_regex = '\\.?[0-9]\\.?[0-9]*[0-9]*\\s?mile?[s]?\\s?final?'\n",
    "\n",
    "# Loop through all remarks and search for the heading/direction regex above\n",
    "for i in range(len(remarks)):\n",
    "    head_dir = re.findall(headir_regex, remarks[i])\n",
    "    remark_uas_loc.append(remarks[i])\n",
    "    remark_uas_loc.append(head_dir)\n",
    "\n",
    "# Split Remarks and Heading/Directions into two seperate lists and create\n",
    "# pandas dataframe\n",
    "remark = []\n",
    "uas_loc = []\n",
    "\n",
    "for i in range(0, len(remark_uas_loc), 2):\n",
    "    remark.append(remark_uas_loc[i])\n",
    "    uas_loc.append(remark_uas_loc[i+1])\n",
    "\n",
    "remark_uas_loc_df = pd.DataFrame()\n",
    "remark_uas_loc_df['REMARKS'] = remark\n",
    "remark_uas_loc_df['UAS_Distance'] = uas_loc\n",
    "#remark_uas_loc_df['UAS_Location_Runways'] = std_rwyComplete_MERGED['UAS_Location_Runways']"
   ]
  },
  {
   "cell_type": "code",
   "execution_count": null,
   "metadata": {
    "scrolled": true
   },
   "outputs": [],
   "source": [
    "remark_uas_loc_df"
   ]
  },
  {
   "cell_type": "code",
   "execution_count": null,
   "metadata": {},
   "outputs": [],
   "source": [
    "# Export final new_df to .csv \n",
    "remark_uas_loc_df.to_csv('rwy118_two.csv', index = False)"
   ]
  },
  {
   "cell_type": "code",
   "execution_count": null,
   "metadata": {},
   "outputs": [],
   "source": [
    "display(HTML(remark_uas_loc_df.to_html()))"
   ]
  },
  {
   "cell_type": "code",
   "execution_count": null,
   "metadata": {},
   "outputs": [],
   "source": [
    "# Get list of UAS locations from the above dataframe\n",
    "uas_dist = remark_uas_loc_df['UAS_Distance'] \n",
    "\n",
    "# If the regular expressions did not hit on any location information, pass it UNKN for now\n",
    "for i in range(len(remark_uas_loc_df)):\n",
    "    if len(uas_dist[i]) == 0:\n",
    "        uas_dist[i] = 'UNKN'"
   ]
  },
  {
   "cell_type": "code",
   "execution_count": null,
   "metadata": {},
   "outputs": [],
   "source": [
    "remark_uas_loc_df"
   ]
  },
  {
   "cell_type": "code",
   "execution_count": null,
   "metadata": {},
   "outputs": [],
   "source": [
    "rwy_mileFinal = remark_uas_loc_df[remark_uas_loc_df['UAS_Distance']!= 'UNKN'].reset_index()\n",
    "rwy_mileFinal"
   ]
  },
  {
   "cell_type": "code",
   "execution_count": null,
   "metadata": {
    "scrolled": true
   },
   "outputs": [],
   "source": [
    "rwy_mileFinal_complete = pd.merge(rwy_mileFinal, rwy510_noNull, on = 'REMARKS', how = 'left')\n",
    "rwy_mileFinal_complete"
   ]
  },
  {
   "cell_type": "code",
   "execution_count": null,
   "metadata": {},
   "outputs": [],
   "source": [
    "rwy_mile_finalDf = pd.DataFrame(rwy_mileFinal_complete)\n",
    "rwy_mile_finalDf"
   ]
  },
  {
   "cell_type": "code",
   "execution_count": null,
   "metadata": {},
   "outputs": [],
   "source": [
    "# Export final new_df to .csv \n",
    "rwy_mileFinal_complete.to_csv('rwy11_allInfo.csv', index = False)"
   ]
  },
  {
   "cell_type": "markdown",
   "metadata": {},
   "source": [
    "#### Link to airports_cleaned_declination.csv"
   ]
  },
  {
   "cell_type": "code",
   "execution_count": null,
   "metadata": {},
   "outputs": [],
   "source": [
    "airports_declination = pd.read_csv('C:/Users/grace/OneDrive/Desktop/GMU/DAEN690/airports_cleaned_declination.csv')"
   ]
  },
  {
   "cell_type": "code",
   "execution_count": null,
   "metadata": {
    "scrolled": true
   },
   "outputs": [],
   "source": [
    "airports_declination"
   ]
  },
  {
   "cell_type": "code",
   "execution_count": null,
   "metadata": {},
   "outputs": [],
   "source": [
    "rwy_mileFinal_complete.rename(columns = {'UASLOCATION' : 'IDENT'}, inplace = True)"
   ]
  },
  {
   "cell_type": "code",
   "execution_count": null,
   "metadata": {},
   "outputs": [],
   "source": [
    "rwy_mileFinal_linked = pd.merge(rwy_mileFinal_complete, airports_declination, on = 'IDENT', how = 'left')"
   ]
  },
  {
   "cell_type": "code",
   "execution_count": null,
   "metadata": {},
   "outputs": [],
   "source": [
    "rwy_mileFinal_linked.drop(columns = ['Column1', 'index_y'])"
   ]
  },
  {
   "cell_type": "code",
   "execution_count": null,
   "metadata": {},
   "outputs": [],
   "source": [
    "airports_runways = pd.read_csv('C:/Users/grace/OneDrive/Desktop/GMU/DAEN690/airports_runways_linked.csv')"
   ]
  },
  {
   "cell_type": "code",
   "execution_count": null,
   "metadata": {},
   "outputs": [],
   "source": [
    "rwy_linked = pd.merge(rwy_mileFinal_linked, airports_runways, on = 'IDENT', how = 'left')"
   ]
  },
  {
   "cell_type": "code",
   "execution_count": null,
   "metadata": {},
   "outputs": [],
   "source": [
    "rwy_linked"
   ]
  },
  {
   "cell_type": "code",
   "execution_count": null,
   "metadata": {},
   "outputs": [],
   "source": [
    "rwy_linked.rename(columns = {'properties.DESIGNATOR': 'DESIGNATOR'}, inplace = True)"
   ]
  },
  {
   "cell_type": "code",
   "execution_count": null,
   "metadata": {},
   "outputs": [],
   "source": [
    "# Split 'RWYLOCATION' field into the RWY and its designator so we can link to the properties.DESIGNATOR field in order\n",
    "# to obtain the correct latitude/longitude coordinates for the appropriate runway\n",
    "rwydesignator = []\n",
    "\n",
    "for i in range(len(rwy_linked)):\n",
    "    rwy_split = rwy_linked['RWYLOCATION'][i].split(' ')\n",
    "    rwydesignator.append(rwy_split[1])"
   ]
  },
  {
   "cell_type": "code",
   "execution_count": null,
   "metadata": {},
   "outputs": [],
   "source": [
    "# Add split column with RWY designators to dataframe as new field\n",
    "rwy_linked['RWYDESIGNATOR'] = rwydesignator"
   ]
  },
  {
   "cell_type": "code",
   "execution_count": null,
   "metadata": {},
   "outputs": [],
   "source": [
    "rwy_linked"
   ]
  },
  {
   "cell_type": "markdown",
   "metadata": {},
   "source": [
    "#### Check if RWY designator found in REMARK matches one of the RWY designators from the rwy.csv dataset\n",
    "\n",
    "*If YES: RWYinREMARK field is 'True'*\n",
    "\n",
    "*If NO: RWYinREMARK field is 'False'*\n",
    "***\n",
    "***NOTE:*** Since we linked on the 'IDENT' field, there are repeated remarks as a result of there being multiple runways at\n",
    "each airport. Thus, we are only interested in the records for which the 'RWYinREMARK' field is 'True'."
   ]
  },
  {
   "cell_type": "code",
   "execution_count": null,
   "metadata": {},
   "outputs": [],
   "source": [
    "rwy_linked['RWYinREMARK'] = rwy_linked.apply(lambda x: str(x.RWYDESIGNATOR) in str(x.DESIGNATOR), axis=1)"
   ]
  },
  {
   "cell_type": "code",
   "execution_count": null,
   "metadata": {},
   "outputs": [],
   "source": [
    "other2158_runways98 = rwy_linked[rwy_linked['RWYinREMARK'] == True]"
   ]
  },
  {
   "cell_type": "markdown",
   "metadata": {},
   "source": [
    "### Calculate Bearing Information for Runways\n",
    "\n",
    "To do this, you take the number portion of the Runway Designator (in the 'RWYDESIGNATOR' field) and multiply it by 10 (effectively adding a 0 to the end) and account for Magnetic Variation (using the 'DECLINATION' field).\n",
    "\n",
    "***Example:*** *RWY 32R has designator 32R which indicates a bearing of 320 degrees*"
   ]
  },
  {
   "cell_type": "code",
   "execution_count": null,
   "metadata": {},
   "outputs": [],
   "source": [
    "other2158_runways98 = other2158_runways98.reset_index()"
   ]
  },
  {
   "cell_type": "code",
   "execution_count": null,
   "metadata": {},
   "outputs": [],
   "source": [
    "designator = other2158_runways98['RWYDESIGNATOR']\n",
    "designator_bearing = []\n",
    "\n",
    "for i in range(len(other2158_runways98)):\n",
    "    designator_bearing.append(int(re.sub(\"\\D\",\"\",designator[i]))*10 + other2158_runways98['DECLINATION'][i])"
   ]
  },
  {
   "cell_type": "code",
   "execution_count": null,
   "metadata": {},
   "outputs": [],
   "source": [
    "other2158_runways98['RWY_BEARING'] = designator_bearing"
   ]
  },
  {
   "cell_type": "code",
   "execution_count": null,
   "metadata": {},
   "outputs": [],
   "source": [
    "other2158_runways98"
   ]
  },
  {
   "cell_type": "markdown",
   "metadata": {},
   "source": [
    "### Convert Distances from NM to Kilometers"
   ]
  },
  {
   "cell_type": "code",
   "execution_count": null,
   "metadata": {},
   "outputs": [],
   "source": [
    "# Convert all distance from NM to kilometers\n",
    "dist_kilo = []\n",
    "\n",
    "for i in range(len(other2158_runways98)):\n",
    "    distanceKilo = int(re.sub(\"\\D\",\"\",other2158_runways98['UAS_Distance'][i][0]))* 1.852 # converting NM to kilometers\n",
    "    dist_kilo.append(distanceKilo)"
   ]
  },
  {
   "cell_type": "code",
   "execution_count": null,
   "metadata": {},
   "outputs": [],
   "source": [
    "other2158_runways98['Distance_Kilometers'] = dist_kilo"
   ]
  },
  {
   "cell_type": "markdown",
   "metadata": {},
   "source": [
    "# SWITCH Runway.Latitude and Runway.Longitude (I THINK ERIC HAS THESE MIXED UP ACCIDENTALLY)"
   ]
  },
  {
   "cell_type": "code",
   "execution_count": null,
   "metadata": {},
   "outputs": [],
   "source": [
    "other2158_runways98.rename(columns = {'Runway.Latitude': 'Runway_Longitude', 'Runway.Longitude' : 'Runway_Latitude'}, inplace = True)"
   ]
  },
  {
   "cell_type": "markdown",
   "metadata": {},
   "source": [
    "### Calculate UAS Latitude/Longitude Information using geopy library"
   ]
  },
  {
   "cell_type": "code",
   "execution_count": null,
   "metadata": {},
   "outputs": [],
   "source": [
    "uas_lat = []\n",
    "uas_long = []\n",
    "\n",
    "\n",
    "for i in range(len(other2158_runways98)):\n",
    "    lat_rwy = pd.to_numeric(other2158_runways98['Runway_Latitude'][i])\n",
    "    long_rwy = pd.to_numeric(other2158_runways98['Runway_Longitude'][i])\n",
    "    b = pd.to_numeric(other2158_runways98['RWY_BEARING'][i])\n",
    "    d = pd.to_numeric(other2158_runways98['Distance_Kilometers'][i])\n",
    "\n",
    "    origin = geopy.Point(lat_rwy, long_rwy)\n",
    "    destination = geodesic(kilometers=d).destination(origin,b)\n",
    "\n",
    "    lat2, lon2, = destination.latitude, destination.longitude\n",
    "\n",
    "    uas_lat.append(lat2)\n",
    "    uas_long.append(lon2)\n",
    "\n",
    "# Append UAS Lat/Long information to DataFrame \n",
    "other2158_runways98['UAS_Latitude'] = uas_lat\n",
    "other2158_runways98['UAS_Longitude'] = uas_long"
   ]
  },
  {
   "cell_type": "code",
   "execution_count": null,
   "metadata": {},
   "outputs": [],
   "source": [
    "other2158_runways98"
   ]
  },
  {
   "cell_type": "code",
   "execution_count": null,
   "metadata": {},
   "outputs": [],
   "source": [
    "# Export final new_df to .csv \n",
    "other2158_runways98.to_csv('rwy10_uasLatLong.csv', index = False)"
   ]
  },
  {
   "cell_type": "code",
   "execution_count": null,
   "metadata": {},
   "outputs": [],
   "source": []
  }
 ],
 "metadata": {
  "kernelspec": {
   "display_name": "Python 3",
   "language": "python",
   "name": "python3"
  },
  "language_info": {
   "codemirror_mode": {
    "name": "ipython",
    "version": 3
   },
   "file_extension": ".py",
   "mimetype": "text/x-python",
   "name": "python",
   "nbconvert_exporter": "python",
   "pygments_lexer": "ipython3",
   "version": "3.8.3"
  }
 },
 "nbformat": 4,
 "nbformat_minor": 4
}
