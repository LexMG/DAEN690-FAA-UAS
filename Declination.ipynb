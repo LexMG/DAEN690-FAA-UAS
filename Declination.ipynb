{
 "cells": [
  {
   "cell_type": "code",
   "execution_count": null,
   "metadata": {},
   "outputs": [],
   "source": [
    "# Import libraries\n",
    "import pandas as pd\n",
    "import datetime\n",
    "import re\n",
    "import urllib.request\n",
    "import urllib.parse\n",
    "import xml.dom.minidom"
   ]
  },
  {
   "cell_type": "code",
   "execution_count": null,
   "metadata": {},
   "outputs": [],
   "source": [
    "# Import Airports dataset\n",
    "airports = pd.read_csv('Airports.csv')"
   ]
  },
  {
   "cell_type": "code",
   "execution_count": null,
   "metadata": {},
   "outputs": [],
   "source": [
    "airports['DECLINATION'] = ''\n",
    "airports"
   ]
  },
  {
   "cell_type": "code",
   "execution_count": null,
   "metadata": {},
   "outputs": [],
   "source": [
    "# Set date as now for API call\n",
    "now = datetime.datetime.now()\n",
    "day = now.day\n",
    "month = now.month\n",
    "year = now.year\n",
    "dateString = now.strftime(\"%m/%d/%Y\")\n",
    "\n",
    "# This will need to be adjusted for incidents to include date of individual incidents and merged into for loop"
   ]
  },
  {
   "cell_type": "code",
   "execution_count": null,
   "metadata": {},
   "outputs": [],
   "source": [
    "# Iterate through the dataframe to calculate declination for each row\n",
    "for index in airports:\n",
    "    #Output formatting and append line to declination file\n",
    "    if airports[index]['Y'] > 0:\n",
    "        latLabel = 'N'\n",
    "    else:\n",
    "        latLabel = 'S'\n",
    "    if airports[index]['X'] > 0:\n",
    "        longLabel = 'E'\n",
    "    else:\n",
    "        longLabel = 'W'\n",
    "    #encode URL parameters\n",
    "    params = urllib.parse.urlencode({'lat1': abs(airports[index]['Y']), 'lat1Hemisphere': latLabel, 'lon1': abs(airports[index]['X']), \n",
    "                                     'lon1Hemisphere': lonLabel, 'resultFormat': 'xml', 'startYear': year, 'startMonth': month, 'startDay': day})\n",
    "    req = urllib.request.Request(url, headers = headers)\n",
    "    #Load XML file\n",
    "    f = urllib.request.urlopen(\"http://www.https://www.ngdc.noaa.gov/geomag/calculators/magcalc.shtml#declination\" % params)\n",
    "    #Process XML file into object tree and get only declination info\n",
    "    dom = xml.dom.minidom.parseString(f.read())\n",
    "    myString = getText(dom.getElementsByTagName(\"declination\")[0].childNodes)\n",
    "    # At this point the string still contains some formatting, this removes it\n",
    "    declination = str(re.findall(r\"[-+]?\\d*\\.\\d+|\\d+\", myString)[0])\n",
    "    airports[index]['DECLINATION'] = declination"
   ]
  },
  {
   "cell_type": "code",
   "execution_count": null,
   "metadata": {},
   "outputs": [],
   "source": []
  }
 ],
 "metadata": {
  "kernelspec": {
   "display_name": "Python 3",
   "language": "python",
   "name": "python3"
  },
  "language_info": {
   "codemirror_mode": {
    "name": "ipython",
    "version": 3
   },
   "file_extension": ".py",
   "mimetype": "text/x-python",
   "name": "python",
   "nbconvert_exporter": "python",
   "pygments_lexer": "ipython3",
   "version": "3.8.3"
  }
 },
 "nbformat": 4,
 "nbformat_minor": 4
}
