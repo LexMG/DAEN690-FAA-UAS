{
 "cells": [
  {
   "cell_type": "markdown",
   "id": "45045f2e",
   "metadata": {},
   "source": [
    "#### Import needed libraries"
   ]
  },
  {
   "cell_type": "code",
   "execution_count": 1,
   "id": "ffb9fd3a",
   "metadata": {},
   "outputs": [],
   "source": [
    "import pandas as pd\n",
    "import re\n",
    "import copy"
   ]
  },
  {
   "cell_type": "markdown",
   "id": "8f30b3d0",
   "metadata": {},
   "source": [
    "#### Read in csv file"
   ]
  },
  {
   "cell_type": "code",
   "execution_count": 2,
   "id": "182d82b0",
   "metadata": {},
   "outputs": [
    {
     "data": {
      "text/html": [
       "<div>\n",
       "<style scoped>\n",
       "    .dataframe tbody tr th:only-of-type {\n",
       "        vertical-align: middle;\n",
       "    }\n",
       "\n",
       "    .dataframe tbody tr th {\n",
       "        vertical-align: top;\n",
       "    }\n",
       "\n",
       "    .dataframe thead th {\n",
       "        text-align: right;\n",
       "    }\n",
       "</style>\n",
       "<table border=\"1\" class=\"dataframe\">\n",
       "  <thead>\n",
       "    <tr style=\"text-align: right;\">\n",
       "      <th></th>\n",
       "      <th>REMARKS</th>\n",
       "      <th>UAS Location</th>\n",
       "    </tr>\n",
       "  </thead>\n",
       "  <tbody>\n",
       "    <tr>\n",
       "      <th>0</th>\n",
       "      <td>W-ROC reports aircraft reported a white UAS at...</td>\n",
       "      <td>[]</td>\n",
       "    </tr>\n",
       "    <tr>\n",
       "      <th>1</th>\n",
       "      <td>Aircrew reported observing a light from a UAS,...</td>\n",
       "      <td>[]</td>\n",
       "    </tr>\n",
       "    <tr>\n",
       "      <th>2</th>\n",
       "      <td>Reported a red quad-copter UAS 2 feet in diame...</td>\n",
       "      <td>[]</td>\n",
       "    </tr>\n",
       "    <tr>\n",
       "      <th>3</th>\n",
       "      <td>A pedestrian reported observing a UAS hovering...</td>\n",
       "      <td>[]</td>\n",
       "    </tr>\n",
       "    <tr>\n",
       "      <th>4</th>\n",
       "      <td>Observed a large UAS 50 feet off the left side...</td>\n",
       "      <td>[]</td>\n",
       "    </tr>\n",
       "    <tr>\n",
       "      <th>...</th>\n",
       "      <td>...</td>\n",
       "      <td>...</td>\n",
       "    </tr>\n",
       "    <tr>\n",
       "      <th>487</th>\n",
       "      <td>1647 EDT / 2047 UTC 8/21/2021\\r\\nRA13U, P28A, ...</td>\n",
       "      <td>[]</td>\n",
       "    </tr>\n",
       "    <tr>\n",
       "      <th>488</th>\n",
       "      <td>2155 EDT / 0155 UTC 8/23/2021\\r\\nChicago OHare...</td>\n",
       "      <td>[]</td>\n",
       "    </tr>\n",
       "    <tr>\n",
       "      <th>489</th>\n",
       "      <td>1756 EDT / 2156 UTC 8/23/2021\\r\\nChicago OHare...</td>\n",
       "      <td>[]</td>\n",
       "    </tr>\n",
       "    <tr>\n",
       "      <th>490</th>\n",
       "      <td>MA State PD observed a UAS over the airport at...</td>\n",
       "      <td>[]</td>\n",
       "    </tr>\n",
       "    <tr>\n",
       "      <th>491</th>\n",
       "      <td>2110 EDT / 0110 UTC  8/26/2021\\r\\nMASS State P...</td>\n",
       "      <td>[]</td>\n",
       "    </tr>\n",
       "  </tbody>\n",
       "</table>\n",
       "<p>492 rows × 2 columns</p>\n",
       "</div>"
      ],
      "text/plain": [
       "                                               REMARKS UAS Location\n",
       "0    W-ROC reports aircraft reported a white UAS at...           []\n",
       "1    Aircrew reported observing a light from a UAS,...           []\n",
       "2    Reported a red quad-copter UAS 2 feet in diame...           []\n",
       "3    A pedestrian reported observing a UAS hovering...           []\n",
       "4    Observed a large UAS 50 feet off the left side...           []\n",
       "..                                                 ...          ...\n",
       "487  1647 EDT / 2047 UTC 8/21/2021\\r\\nRA13U, P28A, ...           []\n",
       "488  2155 EDT / 0155 UTC 8/23/2021\\r\\nChicago OHare...           []\n",
       "489  1756 EDT / 2156 UTC 8/23/2021\\r\\nChicago OHare...           []\n",
       "490  MA State PD observed a UAS over the airport at...           []\n",
       "491  2110 EDT / 0110 UTC  8/26/2021\\r\\nMASS State P...           []\n",
       "\n",
       "[492 rows x 2 columns]"
      ]
     },
     "execution_count": 2,
     "metadata": {},
     "output_type": "execute_result"
    }
   ],
   "source": [
    "nonstandard_original = pd.read_csv('C:/Users/Olga/Desktop/GMU/DAEN690/LEGO/Non-Standard_Runways.csv')\n",
    "nonstandard_original"
   ]
  },
  {
   "cell_type": "markdown",
   "id": "0f1225fd",
   "metadata": {},
   "source": [
    "#### Make a copy of the csv file so changes will not affect the original dataset"
   ]
  },
  {
   "cell_type": "code",
   "execution_count": 3,
   "id": "cfd2ce3f",
   "metadata": {},
   "outputs": [],
   "source": [
    "nonstandard = copy.copy(nonstandard_original)"
   ]
  },
  {
   "cell_type": "markdown",
   "id": "ddb75ef4",
   "metadata": {},
   "source": [
    "#### Do some cleaning for consistency & to make it easier when using regular expressions"
   ]
  },
  {
   "cell_type": "code",
   "execution_count": 4,
   "id": "8981a204",
   "metadata": {},
   "outputs": [
    {
     "name": "stderr",
     "output_type": "stream",
     "text": [
      "<ipython-input-4-2a68618128c4>:3: FutureWarning: The default value of regex will change from True to False in a future version.\n",
      "  nonstandard['REMARKS']=nonstandard['REMARKS'].str.replace('rwy\\.','')\n",
      "<ipython-input-4-2a68618128c4>:4: FutureWarning: The default value of regex will change from True to False in a future version.\n",
      "  nonstandard['REMARKS']=nonstandard['REMARKS'].str.replace('runway\\.','')\n",
      "<ipython-input-4-2a68618128c4>:5: FutureWarning: The default value of regex will change from True to False in a future version.\n",
      "  nonstandard['REMARKS']=nonstandard['REMARKS'].str.replace('\\.',' ')\n"
     ]
    }
   ],
   "source": [
    "nonstandard['REMARKS']=nonstandard['REMARKS'].str.replace('\\r\\n',' ')\n",
    "nonstandard['REMARKS']=nonstandard['REMARKS'].str.lower()\n",
    "nonstandard['REMARKS']=nonstandard['REMARKS'].str.replace('rwy\\.','')\n",
    "nonstandard['REMARKS']=nonstandard['REMARKS'].str.replace('runway\\.','')\n",
    "nonstandard['REMARKS']=nonstandard['REMARKS'].str.replace('\\.',' ')\n",
    "nonstandard['REMARKS']=nonstandard['REMARKS'].str.replace('rwy ','rwy')\n",
    "nonstandard['REMARKS']=nonstandard['REMARKS'].str.replace('runway','rwy')"
   ]
  },
  {
   "cell_type": "markdown",
   "id": "8a4d1254",
   "metadata": {},
   "source": [
    "#### Extract all runways from the REMARKS field"
   ]
  },
  {
   "cell_type": "code",
   "execution_count": 5,
   "id": "888f9a2c",
   "metadata": {},
   "outputs": [],
   "source": [
    "# Create a list that has all runways extracted from remarks\n",
    "remark_runway = []\n",
    "remarks = nonstandard['REMARKS']\n",
    "\n",
    "# Use regular expressions to extract all runways\n",
    "runway_regex = 'rwy ?[0-9][ 0-9.]?[rlc 0-9.]?'\n",
    "\n",
    "# For loop to find runways\n",
    "for i in range(len(remarks)):\n",
    "    runway = re.findall(runway_regex, str(remarks[i]))\n",
    "    remark_runway.append(runway)"
   ]
  },
  {
   "cell_type": "markdown",
   "id": "08382482",
   "metadata": {},
   "source": [
    "#### Extract all headings from REMARKS field"
   ]
  },
  {
   "cell_type": "code",
   "execution_count": 6,
   "id": "f7b53bfa",
   "metadata": {},
   "outputs": [],
   "source": [
    "# Create a list that has all headings extracted from  remarks\n",
    "remark_head_dir = []\n",
    "remarks = nonstandard_original['REMARKS']\n",
    "\n",
    "# Using regular expression for the heading/direction\n",
    "headir_regex = '[0-9][0-9]*[0-9]*\\s?NM* [N|S|E|W|NW|NE|SW|SE|SSE|SSW|SNE|SNW|NNE|NSE|NNE|NNW|WSW|WNW|WSE|WNE|ENE|ESE|ESW|ENW]*'\n",
    "\n",
    "# For loop through remarks to find headings\n",
    "for i in range(len(remarks)):\n",
    "    head_dir = re.findall(headir_regex, str(remarks[i]))\n",
    "    remark_head_dir.append(head_dir)"
   ]
  },
  {
   "cell_type": "markdown",
   "id": "9609976e",
   "metadata": {},
   "source": [
    "#### Extract airports' Ident from REMARKS field"
   ]
  },
  {
   "cell_type": "code",
   "execution_count": 7,
   "id": "8ee344a6",
   "metadata": {},
   "outputs": [],
   "source": [
    "# Import airports dataset\n",
    "airports = pd.read_csv('C:/Users/Olga/Desktop/GMU/DAEN690/LEGO/airports_cleaned.csv')\n",
    "\n",
    "#create airport regex which is list a of airports identifiers separated by |\n",
    "airports_regex = '|'.join(airports[\"IDENT\"].tolist())\n",
    "\n",
    "# Create a list that has all airports' identifiers\n",
    "remark_airports = []\n",
    "remarks = nonstandard_original['REMARKS']\n",
    "\n",
    "#use regex to find airports\n",
    "for k in range(len(remarks)):\n",
    "    ap = re.findall(airports_regex, str(remarks[k]))\n",
    "    remark_airports.append(ap)"
   ]
  },
  {
   "cell_type": "markdown",
   "id": "8b79d8b5",
   "metadata": {},
   "source": [
    "#### Add all extracted values into new dataframe"
   ]
  },
  {
   "cell_type": "code",
   "execution_count": 8,
   "id": "b76b79a3",
   "metadata": {},
   "outputs": [
    {
     "data": {
      "text/html": [
       "<div>\n",
       "<style scoped>\n",
       "    .dataframe tbody tr th:only-of-type {\n",
       "        vertical-align: middle;\n",
       "    }\n",
       "\n",
       "    .dataframe tbody tr th {\n",
       "        vertical-align: top;\n",
       "    }\n",
       "\n",
       "    .dataframe thead th {\n",
       "        text-align: right;\n",
       "    }\n",
       "</style>\n",
       "<table border=\"1\" class=\"dataframe\">\n",
       "  <thead>\n",
       "    <tr style=\"text-align: right;\">\n",
       "      <th></th>\n",
       "      <th>REMARKS</th>\n",
       "      <th>RUNWAY</th>\n",
       "      <th>DIRECTION</th>\n",
       "      <th>AIRPORT</th>\n",
       "    </tr>\n",
       "  </thead>\n",
       "  <tbody>\n",
       "    <tr>\n",
       "      <th>0</th>\n",
       "      <td>W-ROC reports aircraft reported a white UAS at...</td>\n",
       "      <td>[rwy34r]</td>\n",
       "      <td>[]</td>\n",
       "      <td>[ROC, WY34]</td>\n",
       "    </tr>\n",
       "    <tr>\n",
       "      <th>1</th>\n",
       "      <td>Aircrew reported observing a light from a UAS,...</td>\n",
       "      <td>[rwy11r]</td>\n",
       "      <td>[]</td>\n",
       "      <td>[WY11, SRV]</td>\n",
       "    </tr>\n",
       "    <tr>\n",
       "      <th>2</th>\n",
       "      <td>Reported a red quad-copter UAS 2 feet in diame...</td>\n",
       "      <td>[rwy 16 ]</td>\n",
       "      <td>[]</td>\n",
       "      <td>[]</td>\n",
       "    </tr>\n",
       "    <tr>\n",
       "      <th>3</th>\n",
       "      <td>A pedestrian reported observing a UAS hovering...</td>\n",
       "      <td>[rwy 25l]</td>\n",
       "      <td>[]</td>\n",
       "      <td>[]</td>\n",
       "    </tr>\n",
       "    <tr>\n",
       "      <th>4</th>\n",
       "      <td>Observed a large UAS 50 feet off the left side...</td>\n",
       "      <td>[rwy 17c]</td>\n",
       "      <td>[]</td>\n",
       "      <td>[]</td>\n",
       "    </tr>\n",
       "    <tr>\n",
       "      <th>...</th>\n",
       "      <td>...</td>\n",
       "      <td>...</td>\n",
       "      <td>...</td>\n",
       "      <td>...</td>\n",
       "    </tr>\n",
       "    <tr>\n",
       "      <th>487</th>\n",
       "      <td>1647 EDT / 2047 UTC 8/21/2021\\r\\nRA13U, P28A, ...</td>\n",
       "      <td>[rwy26 , rwy19, rwy8 ]</td>\n",
       "      <td>[1 NM W]</td>\n",
       "      <td>[A13, 28A, PNS, PNS, TCT, TCT, PNS, PNS, DEN, ...</td>\n",
       "    </tr>\n",
       "    <tr>\n",
       "      <th>488</th>\n",
       "      <td>2155 EDT / 0155 UTC 8/23/2021\\r\\nChicago OHare...</td>\n",
       "      <td>[rwy 9c, rwy 9c]</td>\n",
       "      <td>[]</td>\n",
       "      <td>[ORD, TCT, RAC, NY39, ORD, NY39, ORD, ORD, TCT...</td>\n",
       "    </tr>\n",
       "    <tr>\n",
       "      <th>489</th>\n",
       "      <td>1756 EDT / 2156 UTC 8/23/2021\\r\\nChicago OHare...</td>\n",
       "      <td>[rwy 9c, rwy 9c]</td>\n",
       "      <td>[]</td>\n",
       "      <td>[ORD, TCT, RAC, NY39, ORD, NY39, ORD, ORD, TCT...</td>\n",
       "    </tr>\n",
       "    <tr>\n",
       "      <th>490</th>\n",
       "      <td>MA State PD observed a UAS over the airport at...</td>\n",
       "      <td>[rwy 15r, rwy 27 ]</td>\n",
       "      <td>[]</td>\n",
       "      <td>[AWO, AWO]</td>\n",
       "    </tr>\n",
       "    <tr>\n",
       "      <th>491</th>\n",
       "      <td>2110 EDT / 0110 UTC  8/26/2021\\r\\nMASS State P...</td>\n",
       "      <td>[rwy15r, rwy27 , rwy27 , rwy27 ]</td>\n",
       "      <td>[]</td>\n",
       "      <td>[WY15, WY27, BOS, WY27, WY27]</td>\n",
       "    </tr>\n",
       "  </tbody>\n",
       "</table>\n",
       "<p>492 rows × 4 columns</p>\n",
       "</div>"
      ],
      "text/plain": [
       "                                               REMARKS  \\\n",
       "0    W-ROC reports aircraft reported a white UAS at...   \n",
       "1    Aircrew reported observing a light from a UAS,...   \n",
       "2    Reported a red quad-copter UAS 2 feet in diame...   \n",
       "3    A pedestrian reported observing a UAS hovering...   \n",
       "4    Observed a large UAS 50 feet off the left side...   \n",
       "..                                                 ...   \n",
       "487  1647 EDT / 2047 UTC 8/21/2021\\r\\nRA13U, P28A, ...   \n",
       "488  2155 EDT / 0155 UTC 8/23/2021\\r\\nChicago OHare...   \n",
       "489  1756 EDT / 2156 UTC 8/23/2021\\r\\nChicago OHare...   \n",
       "490  MA State PD observed a UAS over the airport at...   \n",
       "491  2110 EDT / 0110 UTC  8/26/2021\\r\\nMASS State P...   \n",
       "\n",
       "                               RUNWAY DIRECTION  \\\n",
       "0                            [rwy34r]        []   \n",
       "1                            [rwy11r]        []   \n",
       "2                           [rwy 16 ]        []   \n",
       "3                           [rwy 25l]        []   \n",
       "4                           [rwy 17c]        []   \n",
       "..                                ...       ...   \n",
       "487            [rwy26 , rwy19, rwy8 ]  [1 NM W]   \n",
       "488                  [rwy 9c, rwy 9c]        []   \n",
       "489                  [rwy 9c, rwy 9c]        []   \n",
       "490                [rwy 15r, rwy 27 ]        []   \n",
       "491  [rwy15r, rwy27 , rwy27 , rwy27 ]        []   \n",
       "\n",
       "                                               AIRPORT  \n",
       "0                                          [ROC, WY34]  \n",
       "1                                          [WY11, SRV]  \n",
       "2                                                   []  \n",
       "3                                                   []  \n",
       "4                                                   []  \n",
       "..                                                 ...  \n",
       "487  [A13, 28A, PNS, PNS, TCT, TCT, PNS, PNS, DEN, ...  \n",
       "488  [ORD, TCT, RAC, NY39, ORD, NY39, ORD, ORD, TCT...  \n",
       "489  [ORD, TCT, RAC, NY39, ORD, NY39, ORD, ORD, TCT...  \n",
       "490                                         [AWO, AWO]  \n",
       "491                      [WY15, WY27, BOS, WY27, WY27]  \n",
       "\n",
       "[492 rows x 4 columns]"
      ]
     },
     "execution_count": 8,
     "metadata": {},
     "output_type": "execute_result"
    }
   ],
   "source": [
    "# Create a new dataframe that contains all the extracted info in addition to the original REMARKS field\n",
    "runway_df = pd.DataFrame()\n",
    "runway_df['REMARKS'] = nonstandard_original['REMARKS']\n",
    "runway_df['RUNWAY'] = remark_runway\n",
    "runway_df['DIRECTION'] = remark_head_dir\n",
    "runway_df['AIRPORT'] = remark_airports\n",
    "runway_df"
   ]
  },
  {
   "cell_type": "markdown",
   "id": "3cd6031f",
   "metadata": {},
   "source": [
    "#### Export to csv file"
   ]
  },
  {
   "cell_type": "code",
   "execution_count": 9,
   "id": "b3bd0d50",
   "metadata": {},
   "outputs": [],
   "source": [
    "runway_df.to_csv('Non-std-492Runways.csv', index = False)"
   ]
  }
 ],
 "metadata": {
  "kernelspec": {
   "display_name": "Python 3",
   "language": "python",
   "name": "python3"
  },
  "language_info": {
   "codemirror_mode": {
    "name": "ipython",
    "version": 3
   },
   "file_extension": ".py",
   "mimetype": "text/x-python",
   "name": "python",
   "nbconvert_exporter": "python",
   "pygments_lexer": "ipython3",
   "version": "3.8.8"
  }
 },
 "nbformat": 4,
 "nbformat_minor": 5
}
